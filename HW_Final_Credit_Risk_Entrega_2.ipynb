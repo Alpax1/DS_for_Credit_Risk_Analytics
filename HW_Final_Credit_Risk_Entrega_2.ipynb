{
  "cells": [
    {
      "cell_type": "markdown",
      "metadata": {
        "id": "S8oVumQ_Jm8r"
      },
      "source": [
        "## **HW Final: Test de estrés**\n",
        "\n",
        "### Pablo Soler Macías, Carlos Daniel García Lavanga y Álvaro Payo Bastante"
      ]
    },
    {
      "cell_type": "markdown",
      "metadata": {
        "id": "c6zSOK3dKD36"
      },
      "source": [
        "## **1. Importar librerías y datos**"
      ]
    },
    {
      "cell_type": "code",
      "execution_count": null,
      "metadata": {
        "id": "-ZL_dYsreC56"
      },
      "outputs": [],
      "source": [
        "import warnings\n",
        "warnings.filterwarnings('ignore')"
      ]
    },
    {
      "cell_type": "code",
      "execution_count": null,
      "metadata": {
        "id": "Z5WysoJMd1an"
      },
      "outputs": [],
      "source": [
        "import pandas as pd\n",
        "import numpy as np\n",
        "import matplotlib.pyplot as plt\n",
        "import seaborn as sns\n",
        "from sklearn import metrics\n",
        "from sklearn.metrics import confusion_matrix\n",
        "%matplotlib inline"
      ]
    },
    {
      "cell_type": "code",
      "execution_count": null,
      "metadata": {
        "colab": {
          "base_uri": "https://localhost:8080/"
        },
        "id": "-OZMBaSEd7Hp",
        "outputId": "67066b2f-9c6a-4493-bf31-3eec5edbe0d5"
      },
      "outputs": [
        {
          "output_type": "stream",
          "name": "stdout",
          "text": [
            "Mounted at /content/drive\n"
          ]
        }
      ],
      "source": [
        "from google.colab import drive\n",
        "drive.mount('/content/drive')"
      ]
    },
    {
      "cell_type": "code",
      "execution_count": null,
      "metadata": {
        "id": "lKxWNpE2eFo_"
      },
      "outputs": [],
      "source": [
        "df_train = pd.read_parquet('/content/drive/MyDrive/DS for Credit Risk Analytics/prosperLoanData_processed_train.parquet')\n",
        "df_val = pd.read_parquet('/content/drive/MyDrive/DS for Credit Risk Analytics/prosperLoanData_processed_val.parquet')\n",
        "df_oot = pd.read_parquet('/content/drive/MyDrive/DS for Credit Risk Analytics/prosperLoanData_processed_oot.parquet')"
      ]
    },
    {
      "cell_type": "code",
      "execution_count": null,
      "metadata": {
        "id": "DPAqvGl1jBWm"
      },
      "outputs": [],
      "source": [
        "#drop indeterminates\n",
        "df_train = df_train.loc[df_train.indeterm==False]\n",
        "df_val = df_val.loc[df_val.indeterm==False]\n",
        "df_oot = df_oot.loc[df_oot.indeterm==False]"
      ]
    },
    {
      "cell_type": "code",
      "execution_count": null,
      "metadata": {
        "id": "XtICGR5WWmOq"
      },
      "outputs": [],
      "source": [
        "#get the serialized data from previous session\n",
        "import pickle\n",
        "input_d2  = pickle.load(open('/content/drive/MyDrive/DS for Credit Risk Analytics/output_HW5 (1).pkl', 'rb'))\n",
        "corr_data, features = input_d2['corr_data'], input_d2['features']\n",
        "df_iv, df_psi = input_d2['iv_df'], input_d2['psi_df']"
      ]
    },
    {
      "cell_type": "markdown",
      "metadata": {
        "id": "mez0nTIHKj-K"
      },
      "source": [
        "## **2. Limpieza de variables**"
      ]
    },
    {
      "cell_type": "markdown",
      "metadata": {
        "id": "NlWglfQPLHRU"
      },
      "source": [
        "### **2.1. Eliminación de variables altamente correlacionadas**"
      ]
    },
    {
      "cell_type": "code",
      "execution_count": null,
      "metadata": {
        "colab": {
          "base_uri": "https://localhost:8080/"
        },
        "id": "pS7H1ZFFj6K_",
        "outputId": "49665ff1-6fa8-4fd7-ef31-a2f39c5b935b"
      },
      "outputs": [
        {
          "output_type": "stream",
          "name": "stdout",
          "text": [
            "Drop: TotalProsperPaymentsBilled\n",
            "Drop: CreditScoreRangeUpper\n",
            "Drop: OpenCreditLines\n",
            "Drop: OpenRevolvingAccounts\n",
            "Drop: TotalCreditLinespast7years\n"
          ]
        }
      ],
      "source": [
        "#run through the iv ranking, and drop features if they are correlated with any feature with better ranking\n",
        "feats_sorted = df_iv.feature.values.tolist()\n",
        "\n",
        "def get_uncorr_feats(corr_data, feats_sorted):\n",
        "    \"\"\"Handles the corr_data structure, to drop highlly correlated features\n",
        "    \n",
        "    Args:\n",
        "        corr_data: List of tuples containing the correlation info\n",
        "        feats_sorted: List, with the features to be sorted / dropped\n",
        "        \n",
        "    Returns:\n",
        "        List with the features that have no correlation\n",
        "    \"\"\"\n",
        "    features_keep = feats_sorted[:1]\n",
        "    for feat in feats_sorted[1:]:\n",
        "        #capture the correlation tuple\n",
        "        crr_data = [crr for crr in corr_data if crr[0] == feat]\n",
        "        if len(crr_data):\n",
        "            #if there is a 'hit' with a feature in features_keep, do not include it\n",
        "            hit = len(set(crr_data[0][2].index.tolist()) & set(features_keep)) > 0\n",
        "            if hit:\n",
        "                print ('Drop: ' + feat)\n",
        "            else:\n",
        "                features_keep.append(feat)    \n",
        "        else:\n",
        "            features_keep.append(feat)\n",
        "    return features_keep\n",
        "\n",
        "features_keep = get_uncorr_feats(corr_data, feats_sorted)"
      ]
    },
    {
      "cell_type": "code",
      "execution_count": null,
      "metadata": {
        "colab": {
          "base_uri": "https://localhost:8080/"
        },
        "id": "KwOyIbezlONt",
        "outputId": "689386f4-9175-484b-f6d1-25e77b97ea83"
      },
      "outputs": [
        {
          "output_type": "execute_result",
          "data": {
            "text/plain": [
              "(45, 40, 9)"
            ]
          },
          "metadata": {},
          "execution_count": 8
        }
      ],
      "source": [
        "len(features), len(features_keep), len(corr_data)"
      ]
    },
    {
      "cell_type": "markdown",
      "metadata": {
        "id": "Ve_vJJIfK2iM"
      },
      "source": [
        "### **2.2. Eliminación de variables con IV bajo**"
      ]
    },
    {
      "cell_type": "code",
      "execution_count": null,
      "metadata": {
        "colab": {
          "base_uri": "https://localhost:8080/"
        },
        "id": "X5WNHF2FLcPy",
        "outputId": "44cc04f4-7fb5-440f-b407-3d2469648a85"
      },
      "outputs": [
        {
          "output_type": "execute_result",
          "data": {
            "text/plain": [
              "                        feature        IV\n",
              "29                  IncomeRange  0.145180\n",
              "31          StatedMonthlyIncome  0.119612\n",
              "34        OnTimeProsperPayments  0.113475\n",
              "28            DebtToIncomeRatio  0.111675\n",
              "39  ScorexChangeAtTimeOfListing  0.108946"
            ],
            "text/html": [
              "\n",
              "  <div id=\"df-3bdc6e32-af2d-4a3c-a1b0-9c4865abd416\">\n",
              "    <div class=\"colab-df-container\">\n",
              "      <div>\n",
              "<style scoped>\n",
              "    .dataframe tbody tr th:only-of-type {\n",
              "        vertical-align: middle;\n",
              "    }\n",
              "\n",
              "    .dataframe tbody tr th {\n",
              "        vertical-align: top;\n",
              "    }\n",
              "\n",
              "    .dataframe thead th {\n",
              "        text-align: right;\n",
              "    }\n",
              "</style>\n",
              "<table border=\"1\" class=\"dataframe\">\n",
              "  <thead>\n",
              "    <tr style=\"text-align: right;\">\n",
              "      <th></th>\n",
              "      <th>feature</th>\n",
              "      <th>IV</th>\n",
              "    </tr>\n",
              "  </thead>\n",
              "  <tbody>\n",
              "    <tr>\n",
              "      <th>29</th>\n",
              "      <td>IncomeRange</td>\n",
              "      <td>0.145180</td>\n",
              "    </tr>\n",
              "    <tr>\n",
              "      <th>31</th>\n",
              "      <td>StatedMonthlyIncome</td>\n",
              "      <td>0.119612</td>\n",
              "    </tr>\n",
              "    <tr>\n",
              "      <th>34</th>\n",
              "      <td>OnTimeProsperPayments</td>\n",
              "      <td>0.113475</td>\n",
              "    </tr>\n",
              "    <tr>\n",
              "      <th>28</th>\n",
              "      <td>DebtToIncomeRatio</td>\n",
              "      <td>0.111675</td>\n",
              "    </tr>\n",
              "    <tr>\n",
              "      <th>39</th>\n",
              "      <td>ScorexChangeAtTimeOfListing</td>\n",
              "      <td>0.108946</td>\n",
              "    </tr>\n",
              "  </tbody>\n",
              "</table>\n",
              "</div>\n",
              "      <button class=\"colab-df-convert\" onclick=\"convertToInteractive('df-3bdc6e32-af2d-4a3c-a1b0-9c4865abd416')\"\n",
              "              title=\"Convert this dataframe to an interactive table.\"\n",
              "              style=\"display:none;\">\n",
              "        \n",
              "  <svg xmlns=\"http://www.w3.org/2000/svg\" height=\"24px\"viewBox=\"0 0 24 24\"\n",
              "       width=\"24px\">\n",
              "    <path d=\"M0 0h24v24H0V0z\" fill=\"none\"/>\n",
              "    <path d=\"M18.56 5.44l.94 2.06.94-2.06 2.06-.94-2.06-.94-.94-2.06-.94 2.06-2.06.94zm-11 1L8.5 8.5l.94-2.06 2.06-.94-2.06-.94L8.5 2.5l-.94 2.06-2.06.94zm10 10l.94 2.06.94-2.06 2.06-.94-2.06-.94-.94-2.06-.94 2.06-2.06.94z\"/><path d=\"M17.41 7.96l-1.37-1.37c-.4-.4-.92-.59-1.43-.59-.52 0-1.04.2-1.43.59L10.3 9.45l-7.72 7.72c-.78.78-.78 2.05 0 2.83L4 21.41c.39.39.9.59 1.41.59.51 0 1.02-.2 1.41-.59l7.78-7.78 2.81-2.81c.8-.78.8-2.07 0-2.86zM5.41 20L4 18.59l7.72-7.72 1.47 1.35L5.41 20z\"/>\n",
              "  </svg>\n",
              "      </button>\n",
              "      \n",
              "  <style>\n",
              "    .colab-df-container {\n",
              "      display:flex;\n",
              "      flex-wrap:wrap;\n",
              "      gap: 12px;\n",
              "    }\n",
              "\n",
              "    .colab-df-convert {\n",
              "      background-color: #E8F0FE;\n",
              "      border: none;\n",
              "      border-radius: 50%;\n",
              "      cursor: pointer;\n",
              "      display: none;\n",
              "      fill: #1967D2;\n",
              "      height: 32px;\n",
              "      padding: 0 0 0 0;\n",
              "      width: 32px;\n",
              "    }\n",
              "\n",
              "    .colab-df-convert:hover {\n",
              "      background-color: #E2EBFA;\n",
              "      box-shadow: 0px 1px 2px rgba(60, 64, 67, 0.3), 0px 1px 3px 1px rgba(60, 64, 67, 0.15);\n",
              "      fill: #174EA6;\n",
              "    }\n",
              "\n",
              "    [theme=dark] .colab-df-convert {\n",
              "      background-color: #3B4455;\n",
              "      fill: #D2E3FC;\n",
              "    }\n",
              "\n",
              "    [theme=dark] .colab-df-convert:hover {\n",
              "      background-color: #434B5C;\n",
              "      box-shadow: 0px 1px 3px 1px rgba(0, 0, 0, 0.15);\n",
              "      filter: drop-shadow(0px 1px 2px rgba(0, 0, 0, 0.3));\n",
              "      fill: #FFFFFF;\n",
              "    }\n",
              "  </style>\n",
              "\n",
              "      <script>\n",
              "        const buttonEl =\n",
              "          document.querySelector('#df-3bdc6e32-af2d-4a3c-a1b0-9c4865abd416 button.colab-df-convert');\n",
              "        buttonEl.style.display =\n",
              "          google.colab.kernel.accessAllowed ? 'block' : 'none';\n",
              "\n",
              "        async function convertToInteractive(key) {\n",
              "          const element = document.querySelector('#df-3bdc6e32-af2d-4a3c-a1b0-9c4865abd416');\n",
              "          const dataTable =\n",
              "            await google.colab.kernel.invokeFunction('convertToInteractive',\n",
              "                                                     [key], {});\n",
              "          if (!dataTable) return;\n",
              "\n",
              "          const docLinkHtml = 'Like what you see? Visit the ' +\n",
              "            '<a target=\"_blank\" href=https://colab.research.google.com/notebooks/data_table.ipynb>data table notebook</a>'\n",
              "            + ' to learn more about interactive tables.';\n",
              "          element.innerHTML = '';\n",
              "          dataTable['output_type'] = 'display_data';\n",
              "          await google.colab.output.renderOutput(dataTable, element);\n",
              "          const docLink = document.createElement('div');\n",
              "          docLink.innerHTML = docLinkHtml;\n",
              "          element.appendChild(docLink);\n",
              "        }\n",
              "      </script>\n",
              "    </div>\n",
              "  </div>\n",
              "  "
            ]
          },
          "metadata": {},
          "execution_count": 9
        }
      ],
      "source": [
        "df_iv.head()"
      ]
    },
    {
      "cell_type": "code",
      "execution_count": null,
      "metadata": {
        "id": "zvEcXxKVlUBn"
      },
      "outputs": [],
      "source": [
        "#IV < 0.02\n",
        "def lowIVFeatures(df_iv, th = 0.02):\n",
        "    \"\"\"Returns a list with the features that have an IV lower that th\n",
        "    \n",
        "    Args:\n",
        "        df_iv: Pandas Dataframe with the feature name and their corresponding IV\n",
        "        th: Threshold to be considered when filtering the features\n",
        "        \n",
        "    Returns:\n",
        "        List with features that have an IV lower than the threshold\n",
        "    \"\"\"\n",
        "    return df_iv.loc[df_iv[\"IV\"]<th].feature.tolist()"
      ]
    },
    {
      "cell_type": "code",
      "execution_count": null,
      "metadata": {
        "colab": {
          "base_uri": "https://localhost:8080/"
        },
        "id": "7WEdtKGblYc0",
        "outputId": "0b0581db-c52c-4538-f604-437d6b524ef6"
      },
      "outputs": [
        {
          "output_type": "execute_result",
          "data": {
            "text/plain": [
              "(45, 40, 23)"
            ]
          },
          "metadata": {},
          "execution_count": 11
        }
      ],
      "source": [
        "#capture low IV features\n",
        "low_iv_feats = lowIVFeatures(df_iv)\n",
        "features_keep_iv = list(set(features_keep) - set(low_iv_feats))\n",
        "len(features), len(features_keep), len(features_keep_iv)"
      ]
    },
    {
      "cell_type": "markdown",
      "metadata": {
        "id": "pi_Nq2eZL4KK"
      },
      "source": [
        "### **2.3. Eliminación de variables con PSI elevado**"
      ]
    },
    {
      "cell_type": "code",
      "execution_count": null,
      "metadata": {
        "colab": {
          "base_uri": "https://localhost:8080/"
        },
        "id": "bhm-g_ubL3g7",
        "outputId": "413b1af9-295f-4ace-eddd-78ed8e845924"
      },
      "outputs": [
        {
          "output_type": "execute_result",
          "data": {
            "text/plain": [
              "                      feature           PSI\n",
              "42            Recommendations  0.000000e+00\n",
              "21  PublicRecordsLast12Months  5.352324e-09\n",
              "41              PercentFunded  2.141008e-08\n",
              "20   PublicRecordsLast10Years  2.724033e-05\n",
              "18           AmountDelinquent  7.428038e-05"
            ],
            "text/html": [
              "\n",
              "  <div id=\"df-48dce73e-6d1f-40ed-a7a4-fb65717b7c92\">\n",
              "    <div class=\"colab-df-container\">\n",
              "      <div>\n",
              "<style scoped>\n",
              "    .dataframe tbody tr th:only-of-type {\n",
              "        vertical-align: middle;\n",
              "    }\n",
              "\n",
              "    .dataframe tbody tr th {\n",
              "        vertical-align: top;\n",
              "    }\n",
              "\n",
              "    .dataframe thead th {\n",
              "        text-align: right;\n",
              "    }\n",
              "</style>\n",
              "<table border=\"1\" class=\"dataframe\">\n",
              "  <thead>\n",
              "    <tr style=\"text-align: right;\">\n",
              "      <th></th>\n",
              "      <th>feature</th>\n",
              "      <th>PSI</th>\n",
              "    </tr>\n",
              "  </thead>\n",
              "  <tbody>\n",
              "    <tr>\n",
              "      <th>42</th>\n",
              "      <td>Recommendations</td>\n",
              "      <td>0.000000e+00</td>\n",
              "    </tr>\n",
              "    <tr>\n",
              "      <th>21</th>\n",
              "      <td>PublicRecordsLast12Months</td>\n",
              "      <td>5.352324e-09</td>\n",
              "    </tr>\n",
              "    <tr>\n",
              "      <th>41</th>\n",
              "      <td>PercentFunded</td>\n",
              "      <td>2.141008e-08</td>\n",
              "    </tr>\n",
              "    <tr>\n",
              "      <th>20</th>\n",
              "      <td>PublicRecordsLast10Years</td>\n",
              "      <td>2.724033e-05</td>\n",
              "    </tr>\n",
              "    <tr>\n",
              "      <th>18</th>\n",
              "      <td>AmountDelinquent</td>\n",
              "      <td>7.428038e-05</td>\n",
              "    </tr>\n",
              "  </tbody>\n",
              "</table>\n",
              "</div>\n",
              "      <button class=\"colab-df-convert\" onclick=\"convertToInteractive('df-48dce73e-6d1f-40ed-a7a4-fb65717b7c92')\"\n",
              "              title=\"Convert this dataframe to an interactive table.\"\n",
              "              style=\"display:none;\">\n",
              "        \n",
              "  <svg xmlns=\"http://www.w3.org/2000/svg\" height=\"24px\"viewBox=\"0 0 24 24\"\n",
              "       width=\"24px\">\n",
              "    <path d=\"M0 0h24v24H0V0z\" fill=\"none\"/>\n",
              "    <path d=\"M18.56 5.44l.94 2.06.94-2.06 2.06-.94-2.06-.94-.94-2.06-.94 2.06-2.06.94zm-11 1L8.5 8.5l.94-2.06 2.06-.94-2.06-.94L8.5 2.5l-.94 2.06-2.06.94zm10 10l.94 2.06.94-2.06 2.06-.94-2.06-.94-.94-2.06-.94 2.06-2.06.94z\"/><path d=\"M17.41 7.96l-1.37-1.37c-.4-.4-.92-.59-1.43-.59-.52 0-1.04.2-1.43.59L10.3 9.45l-7.72 7.72c-.78.78-.78 2.05 0 2.83L4 21.41c.39.39.9.59 1.41.59.51 0 1.02-.2 1.41-.59l7.78-7.78 2.81-2.81c.8-.78.8-2.07 0-2.86zM5.41 20L4 18.59l7.72-7.72 1.47 1.35L5.41 20z\"/>\n",
              "  </svg>\n",
              "      </button>\n",
              "      \n",
              "  <style>\n",
              "    .colab-df-container {\n",
              "      display:flex;\n",
              "      flex-wrap:wrap;\n",
              "      gap: 12px;\n",
              "    }\n",
              "\n",
              "    .colab-df-convert {\n",
              "      background-color: #E8F0FE;\n",
              "      border: none;\n",
              "      border-radius: 50%;\n",
              "      cursor: pointer;\n",
              "      display: none;\n",
              "      fill: #1967D2;\n",
              "      height: 32px;\n",
              "      padding: 0 0 0 0;\n",
              "      width: 32px;\n",
              "    }\n",
              "\n",
              "    .colab-df-convert:hover {\n",
              "      background-color: #E2EBFA;\n",
              "      box-shadow: 0px 1px 2px rgba(60, 64, 67, 0.3), 0px 1px 3px 1px rgba(60, 64, 67, 0.15);\n",
              "      fill: #174EA6;\n",
              "    }\n",
              "\n",
              "    [theme=dark] .colab-df-convert {\n",
              "      background-color: #3B4455;\n",
              "      fill: #D2E3FC;\n",
              "    }\n",
              "\n",
              "    [theme=dark] .colab-df-convert:hover {\n",
              "      background-color: #434B5C;\n",
              "      box-shadow: 0px 1px 3px 1px rgba(0, 0, 0, 0.15);\n",
              "      filter: drop-shadow(0px 1px 2px rgba(0, 0, 0, 0.3));\n",
              "      fill: #FFFFFF;\n",
              "    }\n",
              "  </style>\n",
              "\n",
              "      <script>\n",
              "        const buttonEl =\n",
              "          document.querySelector('#df-48dce73e-6d1f-40ed-a7a4-fb65717b7c92 button.colab-df-convert');\n",
              "        buttonEl.style.display =\n",
              "          google.colab.kernel.accessAllowed ? 'block' : 'none';\n",
              "\n",
              "        async function convertToInteractive(key) {\n",
              "          const element = document.querySelector('#df-48dce73e-6d1f-40ed-a7a4-fb65717b7c92');\n",
              "          const dataTable =\n",
              "            await google.colab.kernel.invokeFunction('convertToInteractive',\n",
              "                                                     [key], {});\n",
              "          if (!dataTable) return;\n",
              "\n",
              "          const docLinkHtml = 'Like what you see? Visit the ' +\n",
              "            '<a target=\"_blank\" href=https://colab.research.google.com/notebooks/data_table.ipynb>data table notebook</a>'\n",
              "            + ' to learn more about interactive tables.';\n",
              "          element.innerHTML = '';\n",
              "          dataTable['output_type'] = 'display_data';\n",
              "          await google.colab.output.renderOutput(dataTable, element);\n",
              "          const docLink = document.createElement('div');\n",
              "          docLink.innerHTML = docLinkHtml;\n",
              "          element.appendChild(docLink);\n",
              "        }\n",
              "      </script>\n",
              "    </div>\n",
              "  </div>\n",
              "  "
            ]
          },
          "metadata": {},
          "execution_count": 12
        }
      ],
      "source": [
        "df_psi.head()"
      ]
    },
    {
      "cell_type": "code",
      "execution_count": null,
      "metadata": {
        "id": "3iGKaBcwldOk"
      },
      "outputs": [],
      "source": [
        "#PSI > 0.25\n",
        "def highPSIFeatures(df_psi, TH_PSI = 0.25):\n",
        "    \"\"\"Returns a list with the features that have a PSI higher that th\n",
        "    \n",
        "    Args:\n",
        "        df_iv: Pandas Dataframe with the feature name and their corresponding IV\n",
        "        th: Threshold to be considered when filtering the features\n",
        "        \n",
        "    Returns:\n",
        "        List with features that have an IV lower than the threshold\n",
        "    \"\"\"\n",
        "    return df_psi.loc[df_psi[\"PSI\"] > TH_PSI].feature.tolist()"
      ]
    },
    {
      "cell_type": "code",
      "execution_count": null,
      "metadata": {
        "colab": {
          "base_uri": "https://localhost:8080/"
        },
        "id": "crG0mKbvlgI8",
        "outputId": "acaf8dd8-c687-4b4a-c0d0-1f4f9af62296"
      },
      "outputs": [
        {
          "output_type": "execute_result",
          "data": {
            "text/plain": [
              "(45, 40, 23, 21)"
            ]
          },
          "metadata": {},
          "execution_count": 14
        }
      ],
      "source": [
        "#capture high (unstable) features\n",
        "high_psi_features = highPSIFeatures(df_psi)\n",
        "features_keep_psi = list(set(features_keep_iv) - set(high_psi_features))\n",
        "len(features), len(features_keep), len(features_keep_iv), len(features_keep_psi)"
      ]
    },
    {
      "cell_type": "markdown",
      "metadata": {
        "id": "952K6nFMMPWH"
      },
      "source": [
        "### **2.4. Variables finales con las que trabajaremos**"
      ]
    },
    {
      "cell_type": "code",
      "execution_count": null,
      "metadata": {
        "colab": {
          "base_uri": "https://localhost:8080/"
        },
        "id": "N70fDaKBmfQP",
        "outputId": "760d74a0-b8f6-42fb-d06e-bd09353aa104"
      },
      "outputs": [
        {
          "output_type": "execute_result",
          "data": {
            "text/plain": [
              "['CreditScoreRangeLower',\n",
              " 'ProsperPrincipalOutstanding',\n",
              " 'TotalTrades',\n",
              " 'IsBorrowerHomeowner',\n",
              " 'DebtToIncomeRatio',\n",
              " 'CurrentlyInGroup',\n",
              " 'ProsperPaymentsOneMonthPlusLate',\n",
              " 'AmountDelinquent',\n",
              " 'TotalProsperLoans',\n",
              " 'OnTimeProsperPayments',\n",
              " 'IncomeRange',\n",
              " 'TradesOpenedLast6Months',\n",
              " 'CurrentCreditLines',\n",
              " 'InquiriesLast6Months',\n",
              " 'ProsperPaymentsLessThanOneMonthLate',\n",
              " 'ProsperPrincipalBorrowed',\n",
              " 'StatedMonthlyIncome',\n",
              " 'IncomeVerifiable',\n",
              " 'BorrowerState',\n",
              " 'Occupation',\n",
              " 'ScorexChangeAtTimeOfListing']"
            ]
          },
          "metadata": {},
          "execution_count": 15
        }
      ],
      "source": [
        "#Nos quedamos con 21 variables, que son las que han pasado los filtros de correlación, IV bajo y PSI elevado.\n",
        "final_features = features_keep_psi\n",
        "final_features"
      ]
    },
    {
      "cell_type": "markdown",
      "metadata": {
        "id": "ihaKps4kMvV9"
      },
      "source": [
        "## **3. Preprocesado y trameado**"
      ]
    },
    {
      "cell_type": "markdown",
      "metadata": {
        "id": "pUY5EmUWM6fH"
      },
      "source": [
        "### **3.1. Variables numéricas**"
      ]
    },
    {
      "cell_type": "code",
      "execution_count": null,
      "metadata": {
        "id": "EVENebcLkcTm"
      },
      "outputs": [],
      "source": [
        "def get_bucket_numfeature(df, feat_col, n_bins, input_slider=(0., 100.)):\n",
        "    \"\"\"Cuts a numeric feature in 'n_bins', balacing data in percentiles\n",
        "    \n",
        "    Args:\n",
        "        df: Pandas DataFrame with the input data\n",
        "        feat_col: Name of the column with the input feature\n",
        "        obj_col: Name of the column with the target \n",
        "        n_bins: Number of cuts expected\n",
        "        input_slider: Range considered for the bucketing\n",
        "        \n",
        "    Returns:\n",
        "        List with the cuts corresponding to this feature\n",
        "    \"\"\"\n",
        "    #get the numeric input from the dual slider\n",
        "    perc_sliders = [v/100. for v in input_slider]\n",
        "    var_lims = df[feat_col].quantile([perc_sliders[0], perc_sliders[1]]).values\n",
        "    v_min, v_max = var_lims[0], var_lims[1]\n",
        "    #filter the dataset using the slider input\n",
        "    df_cut = df.loc[(df[feat_col] <= v_max) & (df[feat_col] >= v_min)][[feat_col]]\n",
        "    cuts = df_cut[feat_col].quantile(np.linspace(perc_sliders[0], perc_sliders[1], n_bins + 1)).values.tolist()\n",
        "    cuts = sorted(list(set(cuts)))\n",
        "    return cuts\n",
        "\n",
        "def format_dummy_col(feat_col, dummy_col):\n",
        "    \"\"\"Handles column names for dummy data\n",
        "    \n",
        "    Args:\n",
        "        feat_col: Name of the column with the input feature\n",
        "        dummy_col: String of the dummy column \n",
        "        \n",
        "    Returns:\n",
        "        Dummy column with better formatting\n",
        "    \"\"\"\n",
        "    out = dummy_col.replace(\"(\", \"\")\\\n",
        "                   .replace(\"]\", \"\")\\\n",
        "                   .replace(\".0\", \"\")\\\n",
        "                   .replace(\", \", \"|\")\n",
        "    \n",
        "    return feat_col + '_' + out\n",
        "    \n",
        "def apply_bucketing_num(df, feat_col, cuts):\n",
        "    \"\"\"Applies bucketing to numerical feature\n",
        "    \n",
        "    Args:\n",
        "        df: Pandas Dataframe with the input data\n",
        "        feat_col: Name of the column with the input feature\n",
        "        cuts: Cuts that will be applied to the input data\n",
        "        \n",
        "    Returns:\n",
        "        Pandas dataframe with dummy columns\n",
        "    \"\"\"\n",
        "    cut_col = '{}_cut'.format(feat_col)\n",
        "    if len(cuts) == 2:\n",
        "        cuts = [cuts[0], np.mean(cuts), cuts[1]]\n",
        "    df[cut_col] = pd.cut(df[feat_col], cuts, include_lowest=True, precision=0)\n",
        "    if df[cut_col].isna().any():\n",
        "        df[cut_col] = df[cut_col].cat.add_categories([\"NA\"])\n",
        "        df[cut_col] = df[cut_col].fillna(\"NA\")\n",
        "        \n",
        "    dummies_df = pd.get_dummies(df[cut_col], drop_first=True)\n",
        "    dummies_df.columns = [format_dummy_col(feat_col, str(col)) for col in dummies_df.columns.values.tolist()]\n",
        "    \n",
        "    return dummies_df"
      ]
    },
    {
      "cell_type": "markdown",
      "metadata": {
        "id": "Gk8egxhPNBNb"
      },
      "source": [
        "### **3.2. Variables categóricas**"
      ]
    },
    {
      "cell_type": "code",
      "execution_count": null,
      "metadata": {
        "id": "ZsEtNBCgkjpl"
      },
      "outputs": [],
      "source": [
        "def get_bucket_catfeature(df, feat_col, n_bins):\n",
        "    \"\"\"Cuts a categorical feature in 'n_bins', keeping categories with highest volume\n",
        "    \n",
        "    Args:\n",
        "        df: Pandas DataFrame with the input data\n",
        "        feat_col: Name of the column with the input feature\n",
        "        n_bins: Number of cuts expected\n",
        "        \n",
        "    Returns:\n",
        "        List with the cuts corresponding to this feature\n",
        "    \"\"\"\n",
        "    cuts = df.groupby(feat_col)[feat_col].count().sort_values(ascending=False)[:int(n_bins)].index.values.tolist()\n",
        "    \n",
        "    return cuts\n",
        "\n",
        "def apply_bucketing_cat(df, feat_col, cuts):\n",
        "    \"\"\"Applies bucketing to categorical feature\n",
        "    \n",
        "    Args:\n",
        "        df: Pandas Dataframe with the input data\n",
        "        feat_col: Name of the column with the input feature\n",
        "        cuts: Cuts that will be applied to the input data\n",
        "        \n",
        "    Returns:\n",
        "        Pandas dataframe with dummy columns\n",
        "    \"\"\"\n",
        "    cut_col = '{}_cut'.format(feat_col)\n",
        "    df[cut_col] = df[feat_col]\n",
        "    df.loc[~df[cut_col].isin(cuts), cut_col] = 'Other'\n",
        "    if df[cut_col].isna().any():\n",
        "        df[cut_col] = df[cut_col].fillna(\"NA\")\n",
        "        \n",
        "    dummies_df = pd.get_dummies(df[cut_col], prefix=feat_col, drop_first=True)\n",
        "    \n",
        "    return dummies_df"
      ]
    },
    {
      "cell_type": "markdown",
      "metadata": {
        "id": "YuKvwujPNSCQ"
      },
      "source": [
        "## **4. Trameado**"
      ]
    },
    {
      "cell_type": "code",
      "execution_count": null,
      "metadata": {
        "id": "hdhcT3HukmFz"
      },
      "outputs": [],
      "source": [
        "def get_bucket_feature(df, feat_col, n_bins=6):\n",
        "    \"\"\"Trains bucketing in a feature, whether if it is numerical\n",
        "    or categorical\n",
        "    \n",
        "    Args:\n",
        "        df: Pandas Dataframe with the input data\n",
        "        feat_col: Name of the column with the input feature\n",
        "        n_bins: Cuts that will be applied to the input data\n",
        "        \n",
        "    Returns:\n",
        "        List with the cuts learned from the data\n",
        "    \"\"\"\n",
        "    if df[feat_col].dtypes in (object, bool):\n",
        "        cuts = get_bucket_catfeature(df, feat_col, n_bins)\n",
        "    else:\n",
        "        cuts = get_bucket_numfeature(df, feat_col, n_bins)\n",
        "    return cuts\n",
        "\n",
        "def get_bucketing_allfeatures(df, features, n_bins=6):\n",
        "    \"\"\"Trains bucketing in all given features of a dataset\n",
        "    \n",
        "    Args:\n",
        "        df: Pandas Dataframe with the input data\n",
        "        features: Features which bucketing will be learnt\n",
        "        n_bins: Cuts that will be applied to the input data\n",
        "        \n",
        "    Returns:\n",
        "        Dict, containing all features and its corresponding\n",
        "        bucketing. For example:\n",
        "         {'feature1': cuts1,\n",
        "          'feature2': cuts2}  \n",
        "    \"\"\"\n",
        "    out_dict = {}\n",
        "    for feature in features:\n",
        "        print(feature)\n",
        "        cuts = get_bucket_feature(df, feature, n_bins)\n",
        "        out_dict[feature] = cuts\n",
        "    return out_dict"
      ]
    },
    {
      "cell_type": "code",
      "execution_count": null,
      "metadata": {
        "colab": {
          "base_uri": "https://localhost:8080/"
        },
        "id": "zfIzXHPln_RU",
        "outputId": "2bb9b4b4-1d21-4438-95ff-53cb28d0a2e7"
      },
      "outputs": [
        {
          "output_type": "stream",
          "name": "stdout",
          "text": [
            "CreditScoreRangeLower\n",
            "ProsperPrincipalOutstanding\n",
            "TotalTrades\n",
            "IsBorrowerHomeowner\n",
            "DebtToIncomeRatio\n",
            "CurrentlyInGroup\n",
            "ProsperPaymentsOneMonthPlusLate\n",
            "AmountDelinquent\n",
            "TotalProsperLoans\n",
            "OnTimeProsperPayments\n",
            "IncomeRange\n",
            "TradesOpenedLast6Months\n",
            "CurrentCreditLines\n",
            "InquiriesLast6Months\n",
            "ProsperPaymentsLessThanOneMonthLate\n",
            "ProsperPrincipalBorrowed\n",
            "StatedMonthlyIncome\n",
            "IncomeVerifiable\n",
            "BorrowerState\n",
            "Occupation\n",
            "ScorexChangeAtTimeOfListing\n"
          ]
        },
        {
          "output_type": "execute_result",
          "data": {
            "text/plain": [
              "{'CreditScoreRangeLower': [600.0, 660.0, 700.0, 740.0, 880.0],\n",
              " 'ProsperPrincipalOutstanding': [0.0, 817.575, 3049.0924999999997, 21523.79],\n",
              " 'TotalTrades': [1.0, 14.0, 21.0, 30.0, 110.0],\n",
              " 'IsBorrowerHomeowner': [True, False],\n",
              " 'DebtToIncomeRatio': [0.0, 0.13, 0.19, 0.29, 10.01],\n",
              " 'CurrentlyInGroup': [False, True],\n",
              " 'ProsperPaymentsOneMonthPlusLate': [0.0, 21.0],\n",
              " 'AmountDelinquent': [0.0, 249209.0],\n",
              " 'TotalProsperLoans': [0.0, 1.0, 2.0, 7.0],\n",
              " 'OnTimeProsperPayments': [0.0, 10.0, 19.0, 34.0, 103.0],\n",
              " 'IncomeRange': ['$25,000-49,999',\n",
              "  '$50,000-74,999',\n",
              "  '$100,000+',\n",
              "  '$75,000-99,999'],\n",
              " 'TradesOpenedLast6Months': [0.0, 1.0, 20.0],\n",
              " 'CurrentCreditLines': [0.0, 6.0, 9.0, 12.0, 38.0],\n",
              " 'InquiriesLast6Months': [0.0, 1.0, 2.0, 27.0],\n",
              " 'ProsperPaymentsLessThanOneMonthLate': [0.0, 28.0],\n",
              " 'ProsperPrincipalBorrowed': [0.0, 3000.0, 5000.0, 9000.0, 57499.0],\n",
              " 'StatedMonthlyIncome': [0.0,\n",
              "  3166.666667,\n",
              "  4666.666667,\n",
              "  6833.333333,\n",
              "  483333.333333],\n",
              " 'IncomeVerifiable': [True, False],\n",
              " 'BorrowerState': ['CA', 'FL', 'NY', 'TX'],\n",
              " 'Occupation': ['Other', 'Professional', 'Computer Programmer', 'Executive'],\n",
              " 'ScorexChangeAtTimeOfListing': [-209.0, -32.0, -3.0, 30.0, 257.0]}"
            ]
          },
          "metadata": {},
          "execution_count": 19
        }
      ],
      "source": [
        "dict_bucketing = get_bucketing_allfeatures(df_train, final_features, n_bins=4)\n",
        "dict_bucketing"
      ]
    },
    {
      "cell_type": "code",
      "execution_count": null,
      "metadata": {
        "colab": {
          "base_uri": "https://localhost:8080/"
        },
        "id": "Q2FKq-8ioHEy",
        "outputId": "ee6b1ae2-80a3-4dd3-852e-359534abda79"
      },
      "outputs": [
        {
          "output_type": "execute_result",
          "data": {
            "text/plain": [
              "(21, 21)"
            ]
          },
          "metadata": {},
          "execution_count": 20
        }
      ],
      "source": [
        "len(final_features), len(dict_bucketing.keys())"
      ]
    },
    {
      "cell_type": "code",
      "execution_count": null,
      "metadata": {
        "id": "NunPaeanoJ2Q"
      },
      "outputs": [],
      "source": [
        "def apply_bucketing(df, feat_col, cuts):\n",
        "    \"\"\"Applies a bucketing schema\n",
        "    \n",
        "    Args:\n",
        "        df: Pandas Dataframe with the input data\n",
        "        feat_col: Name of the column with the input feature\n",
        "        cuts: Cuts that will be applied to the input data\n",
        "        \n",
        "    Returns:\n",
        "        Pandas DataFrame with columns dummy columns\n",
        "    \"\"\"\n",
        "    if df[feat_col].dtypes in (object, bool):\n",
        "        df_buck = apply_bucketing_cat(df, feat_col, cuts)\n",
        "    else:\n",
        "        df_buck = apply_bucketing_num(df, feat_col, cuts)\n",
        "    return df_buck"
      ]
    },
    {
      "cell_type": "code",
      "execution_count": null,
      "metadata": {
        "colab": {
          "base_uri": "https://localhost:8080/"
        },
        "id": "GnEnK9OAoQMy",
        "outputId": "771a579a-bef7-466c-be17-f0f6df916dd9"
      },
      "outputs": [
        {
          "output_type": "execute_result",
          "data": {
            "text/plain": [
              "   CreditScoreRangeLower_660|700  CreditScoreRangeLower_700|740  \\\n",
              "0                              0                              0   \n",
              "2                              0                              0   \n",
              "3                              1                              0   \n",
              "4                              1                              0   \n",
              "5                              0                              0   \n",
              "\n",
              "   CreditScoreRangeLower_740|880  \n",
              "0                              0  \n",
              "2                              0  \n",
              "3                              0  \n",
              "4                              0  \n",
              "5                              1  "
            ],
            "text/html": [
              "\n",
              "  <div id=\"df-2d54b86f-a105-45c9-a8af-9200158563f2\">\n",
              "    <div class=\"colab-df-container\">\n",
              "      <div>\n",
              "<style scoped>\n",
              "    .dataframe tbody tr th:only-of-type {\n",
              "        vertical-align: middle;\n",
              "    }\n",
              "\n",
              "    .dataframe tbody tr th {\n",
              "        vertical-align: top;\n",
              "    }\n",
              "\n",
              "    .dataframe thead th {\n",
              "        text-align: right;\n",
              "    }\n",
              "</style>\n",
              "<table border=\"1\" class=\"dataframe\">\n",
              "  <thead>\n",
              "    <tr style=\"text-align: right;\">\n",
              "      <th></th>\n",
              "      <th>CreditScoreRangeLower_660|700</th>\n",
              "      <th>CreditScoreRangeLower_700|740</th>\n",
              "      <th>CreditScoreRangeLower_740|880</th>\n",
              "    </tr>\n",
              "  </thead>\n",
              "  <tbody>\n",
              "    <tr>\n",
              "      <th>0</th>\n",
              "      <td>0</td>\n",
              "      <td>0</td>\n",
              "      <td>0</td>\n",
              "    </tr>\n",
              "    <tr>\n",
              "      <th>2</th>\n",
              "      <td>0</td>\n",
              "      <td>0</td>\n",
              "      <td>0</td>\n",
              "    </tr>\n",
              "    <tr>\n",
              "      <th>3</th>\n",
              "      <td>1</td>\n",
              "      <td>0</td>\n",
              "      <td>0</td>\n",
              "    </tr>\n",
              "    <tr>\n",
              "      <th>4</th>\n",
              "      <td>1</td>\n",
              "      <td>0</td>\n",
              "      <td>0</td>\n",
              "    </tr>\n",
              "    <tr>\n",
              "      <th>5</th>\n",
              "      <td>0</td>\n",
              "      <td>0</td>\n",
              "      <td>1</td>\n",
              "    </tr>\n",
              "  </tbody>\n",
              "</table>\n",
              "</div>\n",
              "      <button class=\"colab-df-convert\" onclick=\"convertToInteractive('df-2d54b86f-a105-45c9-a8af-9200158563f2')\"\n",
              "              title=\"Convert this dataframe to an interactive table.\"\n",
              "              style=\"display:none;\">\n",
              "        \n",
              "  <svg xmlns=\"http://www.w3.org/2000/svg\" height=\"24px\"viewBox=\"0 0 24 24\"\n",
              "       width=\"24px\">\n",
              "    <path d=\"M0 0h24v24H0V0z\" fill=\"none\"/>\n",
              "    <path d=\"M18.56 5.44l.94 2.06.94-2.06 2.06-.94-2.06-.94-.94-2.06-.94 2.06-2.06.94zm-11 1L8.5 8.5l.94-2.06 2.06-.94-2.06-.94L8.5 2.5l-.94 2.06-2.06.94zm10 10l.94 2.06.94-2.06 2.06-.94-2.06-.94-.94-2.06-.94 2.06-2.06.94z\"/><path d=\"M17.41 7.96l-1.37-1.37c-.4-.4-.92-.59-1.43-.59-.52 0-1.04.2-1.43.59L10.3 9.45l-7.72 7.72c-.78.78-.78 2.05 0 2.83L4 21.41c.39.39.9.59 1.41.59.51 0 1.02-.2 1.41-.59l7.78-7.78 2.81-2.81c.8-.78.8-2.07 0-2.86zM5.41 20L4 18.59l7.72-7.72 1.47 1.35L5.41 20z\"/>\n",
              "  </svg>\n",
              "      </button>\n",
              "      \n",
              "  <style>\n",
              "    .colab-df-container {\n",
              "      display:flex;\n",
              "      flex-wrap:wrap;\n",
              "      gap: 12px;\n",
              "    }\n",
              "\n",
              "    .colab-df-convert {\n",
              "      background-color: #E8F0FE;\n",
              "      border: none;\n",
              "      border-radius: 50%;\n",
              "      cursor: pointer;\n",
              "      display: none;\n",
              "      fill: #1967D2;\n",
              "      height: 32px;\n",
              "      padding: 0 0 0 0;\n",
              "      width: 32px;\n",
              "    }\n",
              "\n",
              "    .colab-df-convert:hover {\n",
              "      background-color: #E2EBFA;\n",
              "      box-shadow: 0px 1px 2px rgba(60, 64, 67, 0.3), 0px 1px 3px 1px rgba(60, 64, 67, 0.15);\n",
              "      fill: #174EA6;\n",
              "    }\n",
              "\n",
              "    [theme=dark] .colab-df-convert {\n",
              "      background-color: #3B4455;\n",
              "      fill: #D2E3FC;\n",
              "    }\n",
              "\n",
              "    [theme=dark] .colab-df-convert:hover {\n",
              "      background-color: #434B5C;\n",
              "      box-shadow: 0px 1px 3px 1px rgba(0, 0, 0, 0.15);\n",
              "      filter: drop-shadow(0px 1px 2px rgba(0, 0, 0, 0.3));\n",
              "      fill: #FFFFFF;\n",
              "    }\n",
              "  </style>\n",
              "\n",
              "      <script>\n",
              "        const buttonEl =\n",
              "          document.querySelector('#df-2d54b86f-a105-45c9-a8af-9200158563f2 button.colab-df-convert');\n",
              "        buttonEl.style.display =\n",
              "          google.colab.kernel.accessAllowed ? 'block' : 'none';\n",
              "\n",
              "        async function convertToInteractive(key) {\n",
              "          const element = document.querySelector('#df-2d54b86f-a105-45c9-a8af-9200158563f2');\n",
              "          const dataTable =\n",
              "            await google.colab.kernel.invokeFunction('convertToInteractive',\n",
              "                                                     [key], {});\n",
              "          if (!dataTable) return;\n",
              "\n",
              "          const docLinkHtml = 'Like what you see? Visit the ' +\n",
              "            '<a target=\"_blank\" href=https://colab.research.google.com/notebooks/data_table.ipynb>data table notebook</a>'\n",
              "            + ' to learn more about interactive tables.';\n",
              "          element.innerHTML = '';\n",
              "          dataTable['output_type'] = 'display_data';\n",
              "          await google.colab.output.renderOutput(dataTable, element);\n",
              "          const docLink = document.createElement('div');\n",
              "          docLink.innerHTML = docLinkHtml;\n",
              "          element.appendChild(docLink);\n",
              "        }\n",
              "      </script>\n",
              "    </div>\n",
              "  </div>\n",
              "  "
            ]
          },
          "metadata": {},
          "execution_count": 22
        }
      ],
      "source": [
        "apply_bucketing(df_train, 'CreditScoreRangeLower', dict_bucketing['CreditScoreRangeLower']).head()"
      ]
    },
    {
      "cell_type": "code",
      "execution_count": null,
      "metadata": {
        "id": "WB4t5lEhoR27"
      },
      "outputs": [],
      "source": [
        "#Apply the bucketing\n",
        "\n",
        "# Keep each column dummy columns in independent lists\n",
        "list_df_tr, list_df_val, list_df_oot = [], [], []\n",
        "for feat in final_features:\n",
        "    list_df_tr.append(apply_bucketing(df_train, feat, dict_bucketing[feat]))\n",
        "    list_df_val.append(apply_bucketing(df_val, feat, dict_bucketing[feat]))\n",
        "    list_df_oot.append(apply_bucketing(df_oot, feat, dict_bucketing[feat]))\n",
        "\n",
        "# Then 'vertically' combine them\n",
        "df_tr_preproc = pd.concat(list_df_tr, axis=1)\n",
        "df_val_preproc = pd.concat(list_df_val, axis=1)\n",
        "df_oot_preproc = pd.concat(list_df_oot, axis=1)\n",
        "\n",
        "# Capture the name of all buckets in our dataset\n",
        "keep_cols_buck = df_tr_preproc.columns"
      ]
    },
    {
      "cell_type": "code",
      "execution_count": null,
      "metadata": {
        "colab": {
          "base_uri": "https://localhost:8080/"
        },
        "id": "FfV25LB_ofqz",
        "outputId": "8c8f23f5-2524-41c1-d049-451b9a5ee4e4"
      },
      "outputs": [
        {
          "output_type": "execute_result",
          "data": {
            "text/plain": [
              "((15259, 56), (13220, 58))"
            ]
          },
          "metadata": {},
          "execution_count": 24
        }
      ],
      "source": [
        "df_tr_preproc.shape, df_oot_preproc.shape"
      ]
    },
    {
      "cell_type": "code",
      "execution_count": null,
      "metadata": {
        "id": "SyxXY9dkonFJ"
      },
      "outputs": [],
      "source": [
        "# Capture the target in each subset\n",
        "y_tr, y_val, y_oot = df_train['bad'], df_val['bad'], df_oot['bad']"
      ]
    },
    {
      "cell_type": "markdown",
      "metadata": {
        "id": "MPEnX5onP4oz"
      },
      "source": [
        "## **5. Random Forest con datos originales**"
      ]
    },
    {
      "cell_type": "code",
      "execution_count": null,
      "metadata": {
        "id": "AAjkHK4Xoud6"
      },
      "outputs": [],
      "source": [
        "# Lighther preprocessing\n",
        "# Handle NAs @ numeric features\n",
        "# fill with a value lower than its minimum\n",
        "# We can reuse previopus categorical preprocessing\n",
        "\n",
        "dtypes = df_train[final_features].dtypes\n",
        "cat_features = df_train[final_features].select_dtypes(include=[\"bool\", \"object\"]).columns.tolist()\n",
        "num_feats = [f for f in final_features if f not in cat_features]\n",
        "\n",
        "def get_nafill_rf_num(df, num_features, gap_min=1e6):\n",
        "    \"\"\"Get a dictionary, that will store the value that will be used \n",
        "    to fill NAs in numeric data.\n",
        "    \n",
        "    Args:\n",
        "        df: Pandas Dataframe with the input data\n",
        "        num_features: List with the names of categorical features\n",
        "        gap_min: Gap between minimum value and filling value\n",
        "        \n",
        "    Returns:\n",
        "        Dictionary, with the following structure:\n",
        "        {feature1: fill_val1,\n",
        "         feature2: fill_val2}\n",
        "    \"\"\"\n",
        "    dict_fill = {}\n",
        "    for num_feat in num_features:\n",
        "        dict_fill[num_feat] = df[num_feat].min() - gap_min\n",
        "    return dict_fill\n",
        "    \n",
        "\n",
        "def apply_nafill_rf_num(df, dict_fillrf):\n",
        "    \"\"\"Given a dictionary with the values to be used in NA filling,\n",
        "    use it to fill NAs.\n",
        "    \n",
        "    Args:\n",
        "        df: Pandas Dataframe with the input data\n",
        "        dict_fillrf: Dictionary, that stores filling values\n",
        "        \n",
        "    Returns:\n",
        "        Pandas Dataframe with NA being filled\n",
        "    \"\"\"\n",
        "    df_out = df.copy()\n",
        "    for num_feat in dict_fillrf.keys():\n",
        "        df_out.loc[df_out[num_feat].isna(), num_feat] = dict_fillrf[num_feat]\n",
        "    return df_out"
      ]
    },
    {
      "cell_type": "code",
      "execution_count": null,
      "metadata": {
        "id": "5hvTTK5hoxij"
      },
      "outputs": [],
      "source": [
        "#get dictionary to fill values from train\n",
        "dict_nafill = get_nafill_rf_num(df_train, num_feats)\n",
        "#apply it to train, val and oot\n",
        "df_train_fill = apply_nafill_rf_num(df_train, dict_nafill)\n",
        "df_val_fill = apply_nafill_rf_num(df_val, dict_nafill)\n",
        "df_oot_fill = apply_nafill_rf_num(df_oot, dict_nafill)"
      ]
    },
    {
      "cell_type": "code",
      "execution_count": null,
      "metadata": {
        "id": "GbYJp5Vzo1B6"
      },
      "outputs": [],
      "source": [
        "# Keep each column dummy columns in independent lists\n",
        "# Initialize with the numeric data already filled\n",
        "list_df_tr, list_df_val, list_df_oot = [df_train_fill[num_feats]], [df_val_fill[num_feats]], [df_oot_fill[num_feats]]\n",
        "# Add the bucketing results of categorical data\n",
        "for feat in cat_features:\n",
        "    list_df_tr.append(apply_bucketing(df_train, feat, dict_bucketing[feat]))\n",
        "    list_df_val.append(apply_bucketing(df_val, feat, dict_bucketing[feat]))\n",
        "    list_df_oot.append(apply_bucketing(df_oot, feat, dict_bucketing[feat]))\n",
        "\n",
        "# Then combine them column-wise\n",
        "df_tr_preproc_rf = pd.concat(list_df_tr, axis=1)\n",
        "df_val_preproc_rf = pd.concat(list_df_val, axis=1)\n",
        "df_oot_preproc_rf = pd.concat(list_df_oot, axis=1)\n",
        "\n",
        "# Keep the final column names\n",
        "keep_cols_rf = df_tr_preproc_rf.columns"
      ]
    },
    {
      "cell_type": "code",
      "execution_count": null,
      "metadata": {
        "colab": {
          "base_uri": "https://localhost:8080/"
        },
        "id": "mkGwUI2Zo3JP",
        "outputId": "32f13041-1e0c-4158-d977-36ef603ccd72"
      },
      "outputs": [
        {
          "output_type": "execute_result",
          "data": {
            "text/plain": [
              "Index(['CreditScoreRangeLower', 'ProsperPrincipalOutstanding', 'TotalTrades',\n",
              "       'DebtToIncomeRatio', 'ProsperPaymentsOneMonthPlusLate',\n",
              "       'AmountDelinquent', 'TotalProsperLoans', 'OnTimeProsperPayments',\n",
              "       'TradesOpenedLast6Months', 'CurrentCreditLines', 'InquiriesLast6Months',\n",
              "       'ProsperPaymentsLessThanOneMonthLate', 'ProsperPrincipalBorrowed',\n",
              "       'StatedMonthlyIncome', 'ScorexChangeAtTimeOfListing',\n",
              "       'IsBorrowerHomeowner_True', 'CurrentlyInGroup_True',\n",
              "       'IncomeRange_$25,000-49,999', 'IncomeRange_$50,000-74,999',\n",
              "       'IncomeRange_$75,000-99,999', 'IncomeRange_Other',\n",
              "       'IncomeVerifiable_True', 'BorrowerState_FL', 'BorrowerState_NY',\n",
              "       'BorrowerState_Other', 'BorrowerState_TX', 'Occupation_Executive',\n",
              "       'Occupation_Other', 'Occupation_Professional'],\n",
              "      dtype='object')"
            ]
          },
          "metadata": {},
          "execution_count": 29
        }
      ],
      "source": [
        "df_tr_preproc_rf.columns"
      ]
    },
    {
      "cell_type": "code",
      "execution_count": null,
      "metadata": {
        "colab": {
          "base_uri": "https://localhost:8080/"
        },
        "id": "S8jbBYZOo5Ow",
        "outputId": "079e8ee9-82dd-49ff-ba21-336cef5da64d"
      },
      "outputs": [
        {
          "output_type": "execute_result",
          "data": {
            "text/plain": [
              "29"
            ]
          },
          "metadata": {},
          "execution_count": 30
        }
      ],
      "source": [
        "len(keep_cols_rf)"
      ]
    },
    {
      "cell_type": "code",
      "execution_count": null,
      "metadata": {
        "id": "p3z4R53xpitf"
      },
      "outputs": [],
      "source": [
        "def get_auc(y_true, y_pred):\n",
        "    fpr, tpr, thresholds = metrics.roc_curve(y_true, y_pred)\n",
        "    return metrics.auc(fpr, tpr)"
      ]
    },
    {
      "cell_type": "code",
      "execution_count": null,
      "metadata": {
        "colab": {
          "base_uri": "https://localhost:8080/"
        },
        "id": "H5CdUYtwo6oh",
        "outputId": "27847b98-8d67-42ad-800a-72f159b904db"
      },
      "outputs": [
        {
          "output_type": "execute_result",
          "data": {
            "text/plain": [
              "(0.7327563261829493, 0.7081452016543293, 0.7021567003549735)"
            ]
          },
          "metadata": {},
          "execution_count": 32
        }
      ],
      "source": [
        "# Train a RF-Classifier\n",
        "from sklearn.ensemble import RandomForestClassifier\n",
        "\n",
        "X_tr = df_tr_preproc_rf[keep_cols_rf]\n",
        "X_val = df_val_preproc_rf[keep_cols_rf]\n",
        "X_oot = df_oot_preproc_rf[keep_cols_rf]\n",
        "\n",
        "rf = RandomForestClassifier(n_estimators=500, \n",
        "                            min_samples_leaf=300, \n",
        "                            max_depth=4, \n",
        "                            n_jobs=4)\n",
        "rf.fit(X_tr, y_tr)\n",
        "\n",
        "# Predict for all subsets\n",
        "pred_rf_tr = rf.predict_proba(X_tr)[:, 1]\n",
        "pred_rf_val = rf.predict_proba(X_val)[:, 1] \n",
        "pred_rf_oot = rf.predict_proba(X_oot)[:, 1]\n",
        "\n",
        "# Get AUC metrics in all subsets\n",
        "rf_aucs = get_auc(y_tr, pred_rf_tr), get_auc(y_val, pred_rf_val), get_auc(y_oot, pred_rf_oot)\n",
        "rf_aucs"
      ]
    },
    {
      "cell_type": "code",
      "source": [
        "Media_scores_OG = pred_rf_oot.mean()\n",
        "Media_scores_OG"
      ],
      "metadata": {
        "colab": {
          "base_uri": "https://localhost:8080/"
        },
        "id": "jbwsx5zenOEn",
        "outputId": "2bc9d406-e9d5-460e-e8c2-23678e6ef487"
      },
      "execution_count": null,
      "outputs": [
        {
          "output_type": "execute_result",
          "data": {
            "text/plain": [
              "0.0696955183881404"
            ]
          },
          "metadata": {},
          "execution_count": 33
        }
      ]
    },
    {
      "cell_type": "code",
      "source": [
        "Num_bads_OG = pred_rf_oot.sum()\n",
        "Num_bads_OG"
      ],
      "metadata": {
        "colab": {
          "base_uri": "https://localhost:8080/"
        },
        "id": "7kWFjWAGnarh",
        "outputId": "2d06878d-2e77-4697-f2ab-572350a22488"
      },
      "execution_count": null,
      "outputs": [
        {
          "output_type": "execute_result",
          "data": {
            "text/plain": [
              "921.3747530912161"
            ]
          },
          "metadata": {},
          "execution_count": 34
        }
      ]
    },
    {
      "cell_type": "code",
      "execution_count": null,
      "metadata": {
        "colab": {
          "base_uri": "https://localhost:8080/"
        },
        "id": "C2Mg2L4oo8ld",
        "outputId": "f5ee37af-158a-4e8f-f3a8-ac9f54374486"
      },
      "outputs": [
        {
          "output_type": "execute_result",
          "data": {
            "text/plain": [
              "                                feature  importance\n",
              "13                  StatedMonthlyIncome    0.199030\n",
              "10                 InquiriesLast6Months    0.101220\n",
              "9                    CurrentCreditLines    0.091803\n",
              "0                 CreditScoreRangeLower    0.090604\n",
              "14          ScorexChangeAtTimeOfListing    0.090599\n",
              "7                 OnTimeProsperPayments    0.074289\n",
              "3                     DebtToIncomeRatio    0.074243\n",
              "8               TradesOpenedLast6Months    0.041736\n",
              "21                IncomeVerifiable_True    0.040366\n",
              "17           IncomeRange_$25,000-49,999    0.034756\n",
              "2                           TotalTrades    0.031317\n",
              "5                      AmountDelinquent    0.031111\n",
              "1           ProsperPrincipalOutstanding    0.021818\n",
              "20                    IncomeRange_Other    0.017262\n",
              "12             ProsperPrincipalBorrowed    0.014657\n",
              "11  ProsperPaymentsLessThanOneMonthLate    0.013292\n",
              "6                     TotalProsperLoans    0.009601\n",
              "4       ProsperPaymentsOneMonthPlusLate    0.007613\n",
              "15             IsBorrowerHomeowner_True    0.005798\n",
              "27                     Occupation_Other    0.003319\n",
              "18           IncomeRange_$50,000-74,999    0.002007\n",
              "19           IncomeRange_$75,000-99,999    0.001286\n",
              "24                  BorrowerState_Other    0.000791\n",
              "16                CurrentlyInGroup_True    0.000465\n",
              "22                     BorrowerState_FL    0.000464\n",
              "28              Occupation_Professional    0.000359\n",
              "26                 Occupation_Executive    0.000104\n",
              "23                     BorrowerState_NY    0.000091\n",
              "25                     BorrowerState_TX    0.000000"
            ],
            "text/html": [
              "\n",
              "  <div id=\"df-c4c220db-e662-4b9e-bab4-c4b52af29ed0\">\n",
              "    <div class=\"colab-df-container\">\n",
              "      <div>\n",
              "<style scoped>\n",
              "    .dataframe tbody tr th:only-of-type {\n",
              "        vertical-align: middle;\n",
              "    }\n",
              "\n",
              "    .dataframe tbody tr th {\n",
              "        vertical-align: top;\n",
              "    }\n",
              "\n",
              "    .dataframe thead th {\n",
              "        text-align: right;\n",
              "    }\n",
              "</style>\n",
              "<table border=\"1\" class=\"dataframe\">\n",
              "  <thead>\n",
              "    <tr style=\"text-align: right;\">\n",
              "      <th></th>\n",
              "      <th>feature</th>\n",
              "      <th>importance</th>\n",
              "    </tr>\n",
              "  </thead>\n",
              "  <tbody>\n",
              "    <tr>\n",
              "      <th>13</th>\n",
              "      <td>StatedMonthlyIncome</td>\n",
              "      <td>0.199030</td>\n",
              "    </tr>\n",
              "    <tr>\n",
              "      <th>10</th>\n",
              "      <td>InquiriesLast6Months</td>\n",
              "      <td>0.101220</td>\n",
              "    </tr>\n",
              "    <tr>\n",
              "      <th>9</th>\n",
              "      <td>CurrentCreditLines</td>\n",
              "      <td>0.091803</td>\n",
              "    </tr>\n",
              "    <tr>\n",
              "      <th>0</th>\n",
              "      <td>CreditScoreRangeLower</td>\n",
              "      <td>0.090604</td>\n",
              "    </tr>\n",
              "    <tr>\n",
              "      <th>14</th>\n",
              "      <td>ScorexChangeAtTimeOfListing</td>\n",
              "      <td>0.090599</td>\n",
              "    </tr>\n",
              "    <tr>\n",
              "      <th>7</th>\n",
              "      <td>OnTimeProsperPayments</td>\n",
              "      <td>0.074289</td>\n",
              "    </tr>\n",
              "    <tr>\n",
              "      <th>3</th>\n",
              "      <td>DebtToIncomeRatio</td>\n",
              "      <td>0.074243</td>\n",
              "    </tr>\n",
              "    <tr>\n",
              "      <th>8</th>\n",
              "      <td>TradesOpenedLast6Months</td>\n",
              "      <td>0.041736</td>\n",
              "    </tr>\n",
              "    <tr>\n",
              "      <th>21</th>\n",
              "      <td>IncomeVerifiable_True</td>\n",
              "      <td>0.040366</td>\n",
              "    </tr>\n",
              "    <tr>\n",
              "      <th>17</th>\n",
              "      <td>IncomeRange_$25,000-49,999</td>\n",
              "      <td>0.034756</td>\n",
              "    </tr>\n",
              "    <tr>\n",
              "      <th>2</th>\n",
              "      <td>TotalTrades</td>\n",
              "      <td>0.031317</td>\n",
              "    </tr>\n",
              "    <tr>\n",
              "      <th>5</th>\n",
              "      <td>AmountDelinquent</td>\n",
              "      <td>0.031111</td>\n",
              "    </tr>\n",
              "    <tr>\n",
              "      <th>1</th>\n",
              "      <td>ProsperPrincipalOutstanding</td>\n",
              "      <td>0.021818</td>\n",
              "    </tr>\n",
              "    <tr>\n",
              "      <th>20</th>\n",
              "      <td>IncomeRange_Other</td>\n",
              "      <td>0.017262</td>\n",
              "    </tr>\n",
              "    <tr>\n",
              "      <th>12</th>\n",
              "      <td>ProsperPrincipalBorrowed</td>\n",
              "      <td>0.014657</td>\n",
              "    </tr>\n",
              "    <tr>\n",
              "      <th>11</th>\n",
              "      <td>ProsperPaymentsLessThanOneMonthLate</td>\n",
              "      <td>0.013292</td>\n",
              "    </tr>\n",
              "    <tr>\n",
              "      <th>6</th>\n",
              "      <td>TotalProsperLoans</td>\n",
              "      <td>0.009601</td>\n",
              "    </tr>\n",
              "    <tr>\n",
              "      <th>4</th>\n",
              "      <td>ProsperPaymentsOneMonthPlusLate</td>\n",
              "      <td>0.007613</td>\n",
              "    </tr>\n",
              "    <tr>\n",
              "      <th>15</th>\n",
              "      <td>IsBorrowerHomeowner_True</td>\n",
              "      <td>0.005798</td>\n",
              "    </tr>\n",
              "    <tr>\n",
              "      <th>27</th>\n",
              "      <td>Occupation_Other</td>\n",
              "      <td>0.003319</td>\n",
              "    </tr>\n",
              "    <tr>\n",
              "      <th>18</th>\n",
              "      <td>IncomeRange_$50,000-74,999</td>\n",
              "      <td>0.002007</td>\n",
              "    </tr>\n",
              "    <tr>\n",
              "      <th>19</th>\n",
              "      <td>IncomeRange_$75,000-99,999</td>\n",
              "      <td>0.001286</td>\n",
              "    </tr>\n",
              "    <tr>\n",
              "      <th>24</th>\n",
              "      <td>BorrowerState_Other</td>\n",
              "      <td>0.000791</td>\n",
              "    </tr>\n",
              "    <tr>\n",
              "      <th>16</th>\n",
              "      <td>CurrentlyInGroup_True</td>\n",
              "      <td>0.000465</td>\n",
              "    </tr>\n",
              "    <tr>\n",
              "      <th>22</th>\n",
              "      <td>BorrowerState_FL</td>\n",
              "      <td>0.000464</td>\n",
              "    </tr>\n",
              "    <tr>\n",
              "      <th>28</th>\n",
              "      <td>Occupation_Professional</td>\n",
              "      <td>0.000359</td>\n",
              "    </tr>\n",
              "    <tr>\n",
              "      <th>26</th>\n",
              "      <td>Occupation_Executive</td>\n",
              "      <td>0.000104</td>\n",
              "    </tr>\n",
              "    <tr>\n",
              "      <th>23</th>\n",
              "      <td>BorrowerState_NY</td>\n",
              "      <td>0.000091</td>\n",
              "    </tr>\n",
              "    <tr>\n",
              "      <th>25</th>\n",
              "      <td>BorrowerState_TX</td>\n",
              "      <td>0.000000</td>\n",
              "    </tr>\n",
              "  </tbody>\n",
              "</table>\n",
              "</div>\n",
              "      <button class=\"colab-df-convert\" onclick=\"convertToInteractive('df-c4c220db-e662-4b9e-bab4-c4b52af29ed0')\"\n",
              "              title=\"Convert this dataframe to an interactive table.\"\n",
              "              style=\"display:none;\">\n",
              "        \n",
              "  <svg xmlns=\"http://www.w3.org/2000/svg\" height=\"24px\"viewBox=\"0 0 24 24\"\n",
              "       width=\"24px\">\n",
              "    <path d=\"M0 0h24v24H0V0z\" fill=\"none\"/>\n",
              "    <path d=\"M18.56 5.44l.94 2.06.94-2.06 2.06-.94-2.06-.94-.94-2.06-.94 2.06-2.06.94zm-11 1L8.5 8.5l.94-2.06 2.06-.94-2.06-.94L8.5 2.5l-.94 2.06-2.06.94zm10 10l.94 2.06.94-2.06 2.06-.94-2.06-.94-.94-2.06-.94 2.06-2.06.94z\"/><path d=\"M17.41 7.96l-1.37-1.37c-.4-.4-.92-.59-1.43-.59-.52 0-1.04.2-1.43.59L10.3 9.45l-7.72 7.72c-.78.78-.78 2.05 0 2.83L4 21.41c.39.39.9.59 1.41.59.51 0 1.02-.2 1.41-.59l7.78-7.78 2.81-2.81c.8-.78.8-2.07 0-2.86zM5.41 20L4 18.59l7.72-7.72 1.47 1.35L5.41 20z\"/>\n",
              "  </svg>\n",
              "      </button>\n",
              "      \n",
              "  <style>\n",
              "    .colab-df-container {\n",
              "      display:flex;\n",
              "      flex-wrap:wrap;\n",
              "      gap: 12px;\n",
              "    }\n",
              "\n",
              "    .colab-df-convert {\n",
              "      background-color: #E8F0FE;\n",
              "      border: none;\n",
              "      border-radius: 50%;\n",
              "      cursor: pointer;\n",
              "      display: none;\n",
              "      fill: #1967D2;\n",
              "      height: 32px;\n",
              "      padding: 0 0 0 0;\n",
              "      width: 32px;\n",
              "    }\n",
              "\n",
              "    .colab-df-convert:hover {\n",
              "      background-color: #E2EBFA;\n",
              "      box-shadow: 0px 1px 2px rgba(60, 64, 67, 0.3), 0px 1px 3px 1px rgba(60, 64, 67, 0.15);\n",
              "      fill: #174EA6;\n",
              "    }\n",
              "\n",
              "    [theme=dark] .colab-df-convert {\n",
              "      background-color: #3B4455;\n",
              "      fill: #D2E3FC;\n",
              "    }\n",
              "\n",
              "    [theme=dark] .colab-df-convert:hover {\n",
              "      background-color: #434B5C;\n",
              "      box-shadow: 0px 1px 3px 1px rgba(0, 0, 0, 0.15);\n",
              "      filter: drop-shadow(0px 1px 2px rgba(0, 0, 0, 0.3));\n",
              "      fill: #FFFFFF;\n",
              "    }\n",
              "  </style>\n",
              "\n",
              "      <script>\n",
              "        const buttonEl =\n",
              "          document.querySelector('#df-c4c220db-e662-4b9e-bab4-c4b52af29ed0 button.colab-df-convert');\n",
              "        buttonEl.style.display =\n",
              "          google.colab.kernel.accessAllowed ? 'block' : 'none';\n",
              "\n",
              "        async function convertToInteractive(key) {\n",
              "          const element = document.querySelector('#df-c4c220db-e662-4b9e-bab4-c4b52af29ed0');\n",
              "          const dataTable =\n",
              "            await google.colab.kernel.invokeFunction('convertToInteractive',\n",
              "                                                     [key], {});\n",
              "          if (!dataTable) return;\n",
              "\n",
              "          const docLinkHtml = 'Like what you see? Visit the ' +\n",
              "            '<a target=\"_blank\" href=https://colab.research.google.com/notebooks/data_table.ipynb>data table notebook</a>'\n",
              "            + ' to learn more about interactive tables.';\n",
              "          element.innerHTML = '';\n",
              "          dataTable['output_type'] = 'display_data';\n",
              "          await google.colab.output.renderOutput(dataTable, element);\n",
              "          const docLink = document.createElement('div');\n",
              "          docLink.innerHTML = docLinkHtml;\n",
              "          element.appendChild(docLink);\n",
              "        }\n",
              "      </script>\n",
              "    </div>\n",
              "  </div>\n",
              "  "
            ]
          },
          "metadata": {},
          "execution_count": 35
        }
      ],
      "source": [
        "#Show Feature importance\n",
        "imp_df = pd.DataFrame({'feature': keep_cols_rf,\n",
        "                       'importance': rf.feature_importances_})\n",
        "imp_df.sort_values(by='importance', ascending=False)"
      ]
    },
    {
      "cell_type": "markdown",
      "metadata": {
        "id": "-8V-v5Tsxuao"
      },
      "source": [
        "## **6. Transformación de variables StatedMonthlyIncome & IncomeRange**"
      ]
    },
    {
      "cell_type": "markdown",
      "metadata": {
        "id": "ovpgMCLylLbF"
      },
      "source": [
        "Tras realizar el preprocesado y el trameado con los datos originales, para posteriormente hacer un Random Forest, hemos obtenido un AUC en torno al 70%; un score medio, es decir, la probabilidad de que sea bad, de 6.9%; y 920 bads. \n",
        "\n",
        "Ahora vamos a reducir los valores de la variable StatedMonthlyIncome para validation y OOT en un 5%, 10% y 20%, y ajustaremos la variable IncomeRange con la función categorise que hemos creado en este apartado. \n",
        "\n",
        "El objetivo de esto es realizar nuevas predicciones con la muestra de OOT modificada y ver como afecta al score medio y a los bads esperados en cada caso."
      ]
    },
    {
      "cell_type": "code",
      "execution_count": null,
      "metadata": {
        "id": "PcAkTTzszOyn"
      },
      "outputs": [],
      "source": [
        "df_val95 = df_val.copy()\n",
        "df_oot95 = df_oot.copy()\n",
        "\n",
        "df_val90 = df_val.copy()\n",
        "df_oot90 = df_oot.copy()\n",
        "\n",
        "df_val80 = df_val.copy()\n",
        "df_oot80 = df_oot.copy()"
      ]
    },
    {
      "cell_type": "code",
      "execution_count": null,
      "metadata": {
        "id": "JbjQFr3i2Uhk"
      },
      "outputs": [],
      "source": [
        "df_val95['StatedMonthlyIncome'] = df_val95['StatedMonthlyIncome'] * 0.95\n",
        "df_oot95['StatedMonthlyIncome'] = df_oot95['StatedMonthlyIncome'] * 0.95\n",
        "\n",
        "df_val90['StatedMonthlyIncome'] = df_val90['StatedMonthlyIncome'] * 0.9\n",
        "df_oot90['StatedMonthlyIncome'] = df_oot90['StatedMonthlyIncome'] * 0.9\n",
        "\n",
        "df_val80['StatedMonthlyIncome'] = df_val80['StatedMonthlyIncome'] * 0.8\n",
        "df_oot80['StatedMonthlyIncome'] = df_oot80['StatedMonthlyIncome'] * 0.8"
      ]
    },
    {
      "cell_type": "markdown",
      "source": [
        "Reducimos el StatedMonthlyIncome de las muestras de OOT y de validation en un 5%, 10% y 20% multiplicando la variable por 0.95, 0.9 y 0.8, respectivamente."
      ],
      "metadata": {
        "id": "TRNgu3vzOwfK"
      }
    },
    {
      "cell_type": "code",
      "execution_count": null,
      "metadata": {
        "id": "Pr_8rChAyTDl"
      },
      "outputs": [],
      "source": [
        "def categorise(row):  \n",
        "    if row['StatedMonthlyIncome']*12 > 0 and row['StatedMonthlyIncome']*12 <= 24999: \n",
        "        return '$1-24,999'\n",
        "    elif row['StatedMonthlyIncome']*12 > 25000 and row['StatedMonthlyIncome']*12 <= 49999:\n",
        "        return '$25,000-49,999'\n",
        "    elif row['StatedMonthlyIncome']*12 > 50000 and row['StatedMonthlyIncome']*12 <= 74999:\n",
        "        return '$50,000-74,999'\n",
        "    elif row['StatedMonthlyIncome']*12 > 75000 and row['StatedMonthlyIncome']*12 <= 99999:\n",
        "        return '$75,000-99,999'\n",
        "    elif row['StatedMonthlyIncome']*12 > 100000:\n",
        "        return '$100,000+'\n",
        "    return '$0'"
      ]
    },
    {
      "cell_type": "code",
      "execution_count": null,
      "metadata": {
        "id": "9gQRo7gkygSU"
      },
      "outputs": [],
      "source": [
        "df_val95['IncomeRange'] = df_val95.apply(lambda row: categorise(row), axis=1)\n",
        "df_oot95['IncomeRange'] = df_oot95.apply(lambda row: categorise(row), axis=1)\n",
        "\n",
        "df_val90['IncomeRange'] = df_val90.apply(lambda row: categorise(row), axis=1)\n",
        "df_oot90['IncomeRange'] = df_oot90.apply(lambda row: categorise(row), axis=1)\n",
        "\n",
        "df_val80['IncomeRange'] = df_val80.apply(lambda row: categorise(row), axis=1)\n",
        "df_oot80['IncomeRange'] = df_oot80.apply(lambda row: categorise(row), axis=1)"
      ]
    },
    {
      "cell_type": "markdown",
      "source": [
        "Realizamos una función en la que ajustamos las categorías de IncomeRange, de manera que al reducir StatedMonthlyIncome, las categorías de IncomeRange se reclasificarán. Hemos juntado las categorías de Not Employed y de 0 dólares en  la de 0 dólares."
      ],
      "metadata": {
        "id": "nk6qJht1PCQP"
      }
    },
    {
      "cell_type": "code",
      "execution_count": null,
      "metadata": {
        "colab": {
          "base_uri": "https://localhost:8080/"
        },
        "id": "leGE7LkZfn0r",
        "outputId": "a787a84b-7857-4371-b3c6-80aa7999decc"
      },
      "outputs": [
        {
          "output_type": "execute_result",
          "data": {
            "text/plain": [
              "$25,000-49,999    4723\n",
              "$50,000-74,999    4360\n",
              "$100,000+         2427\n",
              "$75,000-99,999    2375\n",
              "$1-24,999         1167\n",
              "Not employed       193\n",
              "$0                  14\n",
              "Name: IncomeRange, dtype: int64"
            ]
          },
          "metadata": {},
          "execution_count": 40
        }
      ],
      "source": [
        "df_train['IncomeRange'].value_counts()"
      ]
    },
    {
      "cell_type": "code",
      "execution_count": null,
      "metadata": {
        "colab": {
          "base_uri": "https://localhost:8080/"
        },
        "id": "tTkx-6IqfrVb",
        "outputId": "9407cb47-5444-408b-d46b-a939a39baf21"
      },
      "outputs": [
        {
          "output_type": "execute_result",
          "data": {
            "text/plain": [
              "$25,000-49,999    1624\n",
              "$50,000-74,999    1430\n",
              "$100,000+          800\n",
              "$75,000-99,999     778\n",
              "$1-24,999          367\n",
              "Not employed        74\n",
              "$0                   8\n",
              "Name: IncomeRange, dtype: int64"
            ]
          },
          "metadata": {},
          "execution_count": 41
        }
      ],
      "source": [
        "df_val['IncomeRange'].value_counts()"
      ]
    },
    {
      "cell_type": "code",
      "execution_count": null,
      "metadata": {
        "colab": {
          "base_uri": "https://localhost:8080/"
        },
        "id": "BfwJiyWAfCQG",
        "outputId": "7804c750-cf56-4c53-8240-cf88e8cf2c67"
      },
      "outputs": [
        {
          "output_type": "execute_result",
          "data": {
            "text/plain": [
              "$25,000-49,999    1805\n",
              "$50,000-74,999    1348\n",
              "$75,000-99,999     744\n",
              "$100,000+          641\n",
              "$1-24,999          461\n",
              "$0                  82\n",
              "Name: IncomeRange, dtype: int64"
            ]
          },
          "metadata": {},
          "execution_count": 42
        }
      ],
      "source": [
        "df_val95['IncomeRange'].value_counts()"
      ]
    },
    {
      "cell_type": "code",
      "execution_count": null,
      "metadata": {
        "colab": {
          "base_uri": "https://localhost:8080/"
        },
        "id": "mHJVubwGfwC6",
        "outputId": "50466036-b923-427f-cfc2-246569c87219"
      },
      "outputs": [
        {
          "output_type": "execute_result",
          "data": {
            "text/plain": [
              "$25,000-49,999    3839\n",
              "$50,000-74,999    3749\n",
              "$100,000+         2418\n",
              "$75,000-99,999    2164\n",
              "$1-24,999          872\n",
              "Not employed       173\n",
              "$0                   5\n",
              "Name: IncomeRange, dtype: int64"
            ]
          },
          "metadata": {},
          "execution_count": 43
        }
      ],
      "source": [
        "df_oot['IncomeRange'].value_counts()"
      ]
    },
    {
      "cell_type": "code",
      "execution_count": null,
      "metadata": {
        "colab": {
          "base_uri": "https://localhost:8080/"
        },
        "id": "SVmX5V_afEdd",
        "outputId": "b42a50da-a962-41ad-9f05-30c926f83946"
      },
      "outputs": [
        {
          "output_type": "execute_result",
          "data": {
            "text/plain": [
              "$25,000-49,999    4354\n",
              "$50,000-74,999    3512\n",
              "$75,000-99,999    2109\n",
              "$100,000+         1943\n",
              "$1-24,999         1124\n",
              "$0                 178\n",
              "Name: IncomeRange, dtype: int64"
            ]
          },
          "metadata": {},
          "execution_count": 44
        }
      ],
      "source": [
        "df_oot95['IncomeRange'].value_counts()"
      ]
    },
    {
      "cell_type": "markdown",
      "metadata": {
        "id": "udSs-jJolLbG"
      },
      "source": [
        "Mediante los value_counts sobre los datos originales y los datos transformados, podemos ver como varían las categorías de la variable IncomeRange en validation y OOT.\n",
        "\n",
        "Podemos ver como tras las transformaciones en validation y OOT, los rangos de salarios más altos disminuyen y los de salarios más bajos aumentan."
      ]
    },
    {
      "cell_type": "markdown",
      "metadata": {
        "id": "inWx-zhSUNhY"
      },
      "source": [
        "## **7. Reducción de StatedMonthlyIncome en un 5%**"
      ]
    },
    {
      "cell_type": "code",
      "source": [
        "#get dictionary to fill values from train\n",
        "dict_nafill = get_nafill_rf_num(df_train, num_feats)\n",
        "#apply it to train, val and oot\n",
        "df_train_fill = apply_nafill_rf_num(df_train, dict_nafill)\n",
        "df_val_fill95 = apply_nafill_rf_num(df_val95, dict_nafill)\n",
        "df_oot_fill95 = apply_nafill_rf_num(df_oot95, dict_nafill)"
      ],
      "metadata": {
        "id": "70PefFNqxuIQ"
      },
      "execution_count": null,
      "outputs": []
    },
    {
      "cell_type": "code",
      "source": [
        "# Keep each column dummy columns in independednt lists\n",
        "# Initialize with the numeric data already filled\n",
        "list_df_tr, list_df_val95, list_df_oot95 = [df_train_fill[num_feats]], [df_val_fill95[num_feats]], [df_oot_fill95[num_feats]]\n",
        "# Add the bucketing results of categorical data\n",
        "for feat in cat_features:\n",
        "    list_df_tr.append(apply_bucketing(df_train, feat, dict_bucketing[feat]))\n",
        "    list_df_val95.append(apply_bucketing(df_val95, feat, dict_bucketing[feat]))\n",
        "    list_df_oot95.append(apply_bucketing(df_oot95, feat, dict_bucketing[feat]))\n",
        "\n",
        "# Then combine them column-wise\n",
        "df_tr_preproc_rf = pd.concat(list_df_tr, axis=1)\n",
        "df_val_preproc_rf95 = pd.concat(list_df_val95, axis=1)\n",
        "df_oot_preproc_rf95 = pd.concat(list_df_oot95, axis=1)\n",
        "\n",
        "# Keep the final column names\n",
        "keep_cols_rf = df_tr_preproc_rf.columns"
      ],
      "metadata": {
        "id": "1tFNcmaoxWM7"
      },
      "execution_count": null,
      "outputs": []
    },
    {
      "cell_type": "code",
      "source": [
        "#Da error con validation y dijo que solo le importaba OOT, por lo que solo hago la prediccion para OOT\n",
        "X_oot95 = df_oot_preproc_rf95[keep_cols_rf]"
      ],
      "metadata": {
        "id": "bc9EsAHRze30"
      },
      "execution_count": null,
      "outputs": []
    },
    {
      "cell_type": "code",
      "execution_count": null,
      "metadata": {
        "colab": {
          "base_uri": "https://localhost:8080/"
        },
        "id": "z3YWowC8BOYb",
        "outputId": "643f6924-6b38-44ab-d3d6-f566aa029206"
      },
      "outputs": [
        {
          "output_type": "execute_result",
          "data": {
            "text/plain": [
              "0.7007096195648392"
            ]
          },
          "metadata": {},
          "execution_count": 50
        }
      ],
      "source": [
        "# Train a RF-Classifier\n",
        "from sklearn.ensemble import RandomForestClassifier\n",
        "\n",
        "rf = RandomForestClassifier(n_estimators=500, \n",
        "                            min_samples_leaf=300, \n",
        "                            max_depth=4, \n",
        "                            n_jobs=4)\n",
        "rf.fit(X_tr, y_tr)\n",
        "\n",
        "# Predict for OOT\n",
        "pred_rf_oot95 = rf.predict_proba(X_oot95)[:, 1]\n",
        "\n",
        "# Get AUC metrics in all subsets\n",
        "rf_aucs95 = get_auc(y_oot, pred_rf_oot95)\n",
        "rf_aucs95"
      ]
    },
    {
      "cell_type": "code",
      "source": [
        "Media_scores_95 = pred_rf_oot95.mean()\n",
        "Media_scores_95 #probabilidad de que sea bad"
      ],
      "metadata": {
        "colab": {
          "base_uri": "https://localhost:8080/"
        },
        "id": "QkDwyiVTz5qR",
        "outputId": "40802c2b-d924-434c-c78f-99fc3607f51c"
      },
      "execution_count": null,
      "outputs": [
        {
          "output_type": "execute_result",
          "data": {
            "text/plain": [
              "0.07058470945996159"
            ]
          },
          "metadata": {},
          "execution_count": 51
        }
      ]
    },
    {
      "cell_type": "code",
      "source": [
        "Num_bads_95 = pred_rf_oot95.sum()\n",
        "Num_bads_95 #probabilidad de que sea bad x número de clientes (length oot) = bads esperados"
      ],
      "metadata": {
        "colab": {
          "base_uri": "https://localhost:8080/"
        },
        "id": "A17nCOh2s_Kf",
        "outputId": "387182b2-9a47-49bd-81be-f6d30d17efc7"
      },
      "execution_count": null,
      "outputs": [
        {
          "output_type": "execute_result",
          "data": {
            "text/plain": [
              "933.1298590606922"
            ]
          },
          "metadata": {},
          "execution_count": 52
        }
      ]
    },
    {
      "cell_type": "markdown",
      "metadata": {
        "id": "A_954sfZ1E3C"
      },
      "source": [
        "## **8. Reducción de StatedMonthlyIncome en un 10%**"
      ]
    },
    {
      "cell_type": "code",
      "source": [
        "#get dictionary to fill values from train\n",
        "dict_nafill = get_nafill_rf_num(df_train, num_feats)\n",
        "#apply it to train, val and oot\n",
        "df_train_fill = apply_nafill_rf_num(df_train, dict_nafill)\n",
        "df_val_fill90 = apply_nafill_rf_num(df_val90, dict_nafill)\n",
        "df_oot_fill90 = apply_nafill_rf_num(df_oot90, dict_nafill)"
      ],
      "metadata": {
        "id": "rBvFfpXF1E3D"
      },
      "execution_count": null,
      "outputs": []
    },
    {
      "cell_type": "code",
      "source": [
        "# Keep each column dummy columns in independednt lists\n",
        "# Initialize with the numeric data already filled\n",
        "list_df_tr, list_df_val90, list_df_oot90 = [df_train_fill[num_feats]], [df_val_fill90[num_feats]], [df_oot_fill90[num_feats]]\n",
        "# Add the bucketing results of categorical data\n",
        "for feat in cat_features:\n",
        "    list_df_tr.append(apply_bucketing(df_train, feat, dict_bucketing[feat]))\n",
        "    list_df_val90.append(apply_bucketing(df_val90, feat, dict_bucketing[feat]))\n",
        "    list_df_oot90.append(apply_bucketing(df_oot90, feat, dict_bucketing[feat]))\n",
        "\n",
        "# Then combine them column-wise\n",
        "df_tr_preproc_rf = pd.concat(list_df_tr, axis=1)\n",
        "df_val_preproc_rf90 = pd.concat(list_df_val90, axis=1)\n",
        "df_oot_preproc_rf90 = pd.concat(list_df_oot90, axis=1)\n",
        "\n",
        "# Keep the final column names\n",
        "keep_cols_rf = df_tr_preproc_rf.columns"
      ],
      "metadata": {
        "id": "0dMkLHzR1E3D"
      },
      "execution_count": null,
      "outputs": []
    },
    {
      "cell_type": "code",
      "source": [
        "#Da error con validation y dijo que solo le importaba OOT, por lo que solo hago la prediccion para OOT\n",
        "X_oot90 = df_oot_preproc_rf90[keep_cols_rf]"
      ],
      "metadata": {
        "id": "IciiuIJZ1E3D"
      },
      "execution_count": null,
      "outputs": []
    },
    {
      "cell_type": "code",
      "execution_count": null,
      "metadata": {
        "colab": {
          "base_uri": "https://localhost:8080/"
        },
        "outputId": "24bd21d4-cb52-4215-bc08-b0045f23908c",
        "id": "YVYxGVK41E3D"
      },
      "outputs": [
        {
          "output_type": "execute_result",
          "data": {
            "text/plain": [
              "0.698945598152648"
            ]
          },
          "metadata": {},
          "execution_count": 57
        }
      ],
      "source": [
        "# Train a RF-Classifier\n",
        "from sklearn.ensemble import RandomForestClassifier\n",
        "\n",
        "rf = RandomForestClassifier(n_estimators=500, \n",
        "                            min_samples_leaf=300, \n",
        "                            max_depth=4, \n",
        "                            n_jobs=4)\n",
        "rf.fit(X_tr, y_tr)\n",
        "\n",
        "# Predict for OOT\n",
        "pred_rf_oot90 = rf.predict_proba(X_oot90)[:, 1]\n",
        "\n",
        "# Get AUC metrics in all subsets\n",
        "rf_aucs90 = get_auc(y_oot, pred_rf_oot90)\n",
        "rf_aucs90"
      ]
    },
    {
      "cell_type": "code",
      "source": [
        "Media_scores_90 = pred_rf_oot90.mean()\n",
        "Media_scores_90"
      ],
      "metadata": {
        "colab": {
          "base_uri": "https://localhost:8080/"
        },
        "outputId": "5bf4980a-790b-4e67-8ec1-f547907ecd28",
        "id": "-12Fl7oY1E3D"
      },
      "execution_count": null,
      "outputs": [
        {
          "output_type": "execute_result",
          "data": {
            "text/plain": [
              "0.07173622471298186"
            ]
          },
          "metadata": {},
          "execution_count": 58
        }
      ]
    },
    {
      "cell_type": "code",
      "source": [
        "Num_bads_90 = pred_rf_oot90.sum()\n",
        "Num_bads_90"
      ],
      "metadata": {
        "colab": {
          "base_uri": "https://localhost:8080/"
        },
        "id": "MyW561Yo1yu4",
        "outputId": "6ffaa36a-b92d-449c-dbd3-6be2884dbf0c"
      },
      "execution_count": null,
      "outputs": [
        {
          "output_type": "execute_result",
          "data": {
            "text/plain": [
              "948.3528907056201"
            ]
          },
          "metadata": {},
          "execution_count": 59
        }
      ]
    },
    {
      "cell_type": "markdown",
      "metadata": {
        "id": "Q3dNI7Zp42GN"
      },
      "source": [
        "## **9. Reducción de StatedMonthlyIncome en un 20%**"
      ]
    },
    {
      "cell_type": "code",
      "source": [
        "#get dictionary to fill values from train\n",
        "dict_nafill = get_nafill_rf_num(df_train, num_feats)\n",
        "#apply it to train, val and oot\n",
        "df_train_fill = apply_nafill_rf_num(df_train, dict_nafill)\n",
        "df_val_fill80 = apply_nafill_rf_num(df_val80, dict_nafill)\n",
        "df_oot_fill80 = apply_nafill_rf_num(df_oot80, dict_nafill)"
      ],
      "metadata": {
        "id": "rxvLTcxm42GO"
      },
      "execution_count": null,
      "outputs": []
    },
    {
      "cell_type": "code",
      "source": [
        "# Keep each column dummy columns in independednt lists\n",
        "# Initialize with the numeric data already filled\n",
        "list_df_tr, list_df_val80, list_df_oot80 = [df_train_fill[num_feats]], [df_val_fill80[num_feats]], [df_oot_fill80[num_feats]]\n",
        "# Add the bucketing results of categorical data\n",
        "for feat in cat_features:\n",
        "    list_df_tr.append(apply_bucketing(df_train, feat, dict_bucketing[feat]))\n",
        "    list_df_val80.append(apply_bucketing(df_val80, feat, dict_bucketing[feat]))\n",
        "    list_df_oot80.append(apply_bucketing(df_oot80, feat, dict_bucketing[feat]))\n",
        "\n",
        "# Then combine them column-wise\n",
        "df_tr_preproc_rf = pd.concat(list_df_tr, axis=1)\n",
        "df_val_preproc_rf80 = pd.concat(list_df_val80, axis=1)\n",
        "df_oot_preproc_rf80 = pd.concat(list_df_oot80, axis=1)\n",
        "\n",
        "# Keep the final column names\n",
        "keep_cols_rf = df_tr_preproc_rf.columns"
      ],
      "metadata": {
        "id": "Kd6ysB9942GO"
      },
      "execution_count": null,
      "outputs": []
    },
    {
      "cell_type": "code",
      "source": [
        "#Creo la columna llena de 0s ya que me dice que no está en el índice al crear X_oot80\n",
        "df_oot_preproc_rf80_2 = df_oot_preproc_rf80.copy()\n",
        "df_oot_preproc_rf80_2['IncomeRange_$75,000-99,999'] = 0"
      ],
      "metadata": {
        "id": "scsIyxte5YyF"
      },
      "execution_count": null,
      "outputs": []
    },
    {
      "cell_type": "code",
      "source": [
        "#Aqui si que me da error con oot, por lo que creo la columna con 0 (nos dio el visto bueno)\n",
        "X_oot80 = df_oot_preproc_rf80_2[keep_cols_rf]"
      ],
      "metadata": {
        "id": "bmG9XQo-42GO"
      },
      "execution_count": null,
      "outputs": []
    },
    {
      "cell_type": "code",
      "execution_count": null,
      "metadata": {
        "colab": {
          "base_uri": "https://localhost:8080/"
        },
        "outputId": "0801ea95-d742-4209-8b17-fada97a5981a",
        "id": "NsKMEorF42GO"
      },
      "outputs": [
        {
          "output_type": "execute_result",
          "data": {
            "text/plain": [
              "0.6944295396231542"
            ]
          },
          "metadata": {},
          "execution_count": 64
        }
      ],
      "source": [
        "# SOLUCION\n",
        "# Train a RF-Classifier\n",
        "from sklearn.ensemble import RandomForestClassifier\n",
        "\n",
        "rf = RandomForestClassifier(n_estimators=500, \n",
        "                            min_samples_leaf=300, \n",
        "                            max_depth=4, \n",
        "                            n_jobs=4)\n",
        "rf.fit(X_tr, y_tr)\n",
        "\n",
        "# Predict for OOT\n",
        "pred_rf_oot80 = rf.predict_proba(X_oot80)[:, 1]\n",
        "\n",
        "# Get AUC metrics in all subsets\n",
        "rf_aucs80 = get_auc(y_oot, pred_rf_oot80)\n",
        "rf_aucs80"
      ]
    },
    {
      "cell_type": "code",
      "source": [
        "Media_scores_80 = pred_rf_oot80.mean()\n",
        "Media_scores_80"
      ],
      "metadata": {
        "colab": {
          "base_uri": "https://localhost:8080/"
        },
        "id": "ffgYB5DS6BXx",
        "outputId": "39aece14-320d-481c-a2a0-88bd71fac337"
      },
      "execution_count": null,
      "outputs": [
        {
          "output_type": "execute_result",
          "data": {
            "text/plain": [
              "0.07424550442203896"
            ]
          },
          "metadata": {},
          "execution_count": 65
        }
      ]
    },
    {
      "cell_type": "code",
      "source": [
        "Num_bads_80 = pred_rf_oot80.sum()\n",
        "Num_bads_80"
      ],
      "metadata": {
        "colab": {
          "base_uri": "https://localhost:8080/"
        },
        "id": "9goISbwj6Drr",
        "outputId": "be1676fd-8565-42ab-be91-c94e8af012b7"
      },
      "execution_count": null,
      "outputs": [
        {
          "output_type": "execute_result",
          "data": {
            "text/plain": [
              "981.5255684593551"
            ]
          },
          "metadata": {},
          "execution_count": 66
        }
      ]
    },
    {
      "cell_type": "markdown",
      "metadata": {
        "id": "IF96otGBOTwn"
      },
      "source": [
        "## **10. Comparaciones AUC, scores y bads esperados**"
      ]
    },
    {
      "cell_type": "markdown",
      "source": [
        "### **10.1. DataFrame y conclusiones**"
      ],
      "metadata": {
        "id": "eW0LHApMDzhy"
      }
    },
    {
      "cell_type": "code",
      "execution_count": null,
      "metadata": {
        "id": "Vp7QrBPTrmO-"
      },
      "outputs": [],
      "source": [
        "rf_auc_oot_OG = get_auc(y_oot, pred_rf_oot)"
      ]
    },
    {
      "cell_type": "code",
      "source": [
        "df_mix = pd.DataFrame()\n",
        "\n",
        "Scores_medios = (Media_scores_OG, Media_scores_95, Media_scores_90, Media_scores_80)\n",
        "Bads_esperados = (Num_bads_OG, Num_bads_95, Num_bads_90, Num_bads_80)\n",
        "AUC_OOT = (rf_auc_oot_OG, rf_aucs95, rf_aucs90, rf_aucs80)\n",
        "\n",
        "df_mix[\"AUC\"] = AUC_OOT\n",
        "df_mix[\"Scores_medios\"] = Scores_medios\n",
        "df_mix[\"Bads_esperados\"] = Bads_esperados\n",
        "df_mix.index = [\"Datos originales\", \"Reduccion 5%\", \"Reduccion 10%\", \"Reduccion 20%\"]\n",
        "df_mix['Bads_esperados'] = df_bads['Bads_esperados'].round(0)\n",
        "\n",
        "df_mix"
      ],
      "metadata": {
        "colab": {
          "base_uri": "https://localhost:8080/",
          "height": 175
        },
        "id": "s7VOuwABDUjf",
        "outputId": "10e005a5-eec6-4e9a-e04e-43a75f36455a"
      },
      "execution_count": null,
      "outputs": [
        {
          "output_type": "execute_result",
          "data": {
            "text/plain": [
              "                       AUC  Scores_medios  Bads_esperados\n",
              "Datos originales  0.702157       0.069696           921.0\n",
              "Reduccion 5%      0.700710       0.070585           933.0\n",
              "Reduccion 10%     0.698946       0.071736           948.0\n",
              "Reduccion 20%     0.694430       0.074246           982.0"
            ],
            "text/html": [
              "\n",
              "  <div id=\"df-c24c338e-72ad-41d8-9bd3-cde377400544\">\n",
              "    <div class=\"colab-df-container\">\n",
              "      <div>\n",
              "<style scoped>\n",
              "    .dataframe tbody tr th:only-of-type {\n",
              "        vertical-align: middle;\n",
              "    }\n",
              "\n",
              "    .dataframe tbody tr th {\n",
              "        vertical-align: top;\n",
              "    }\n",
              "\n",
              "    .dataframe thead th {\n",
              "        text-align: right;\n",
              "    }\n",
              "</style>\n",
              "<table border=\"1\" class=\"dataframe\">\n",
              "  <thead>\n",
              "    <tr style=\"text-align: right;\">\n",
              "      <th></th>\n",
              "      <th>AUC</th>\n",
              "      <th>Scores_medios</th>\n",
              "      <th>Bads_esperados</th>\n",
              "    </tr>\n",
              "  </thead>\n",
              "  <tbody>\n",
              "    <tr>\n",
              "      <th>Datos originales</th>\n",
              "      <td>0.702157</td>\n",
              "      <td>0.069696</td>\n",
              "      <td>921.0</td>\n",
              "    </tr>\n",
              "    <tr>\n",
              "      <th>Reduccion 5%</th>\n",
              "      <td>0.700710</td>\n",
              "      <td>0.070585</td>\n",
              "      <td>933.0</td>\n",
              "    </tr>\n",
              "    <tr>\n",
              "      <th>Reduccion 10%</th>\n",
              "      <td>0.698946</td>\n",
              "      <td>0.071736</td>\n",
              "      <td>948.0</td>\n",
              "    </tr>\n",
              "    <tr>\n",
              "      <th>Reduccion 20%</th>\n",
              "      <td>0.694430</td>\n",
              "      <td>0.074246</td>\n",
              "      <td>982.0</td>\n",
              "    </tr>\n",
              "  </tbody>\n",
              "</table>\n",
              "</div>\n",
              "      <button class=\"colab-df-convert\" onclick=\"convertToInteractive('df-c24c338e-72ad-41d8-9bd3-cde377400544')\"\n",
              "              title=\"Convert this dataframe to an interactive table.\"\n",
              "              style=\"display:none;\">\n",
              "        \n",
              "  <svg xmlns=\"http://www.w3.org/2000/svg\" height=\"24px\"viewBox=\"0 0 24 24\"\n",
              "       width=\"24px\">\n",
              "    <path d=\"M0 0h24v24H0V0z\" fill=\"none\"/>\n",
              "    <path d=\"M18.56 5.44l.94 2.06.94-2.06 2.06-.94-2.06-.94-.94-2.06-.94 2.06-2.06.94zm-11 1L8.5 8.5l.94-2.06 2.06-.94-2.06-.94L8.5 2.5l-.94 2.06-2.06.94zm10 10l.94 2.06.94-2.06 2.06-.94-2.06-.94-.94-2.06-.94 2.06-2.06.94z\"/><path d=\"M17.41 7.96l-1.37-1.37c-.4-.4-.92-.59-1.43-.59-.52 0-1.04.2-1.43.59L10.3 9.45l-7.72 7.72c-.78.78-.78 2.05 0 2.83L4 21.41c.39.39.9.59 1.41.59.51 0 1.02-.2 1.41-.59l7.78-7.78 2.81-2.81c.8-.78.8-2.07 0-2.86zM5.41 20L4 18.59l7.72-7.72 1.47 1.35L5.41 20z\"/>\n",
              "  </svg>\n",
              "      </button>\n",
              "      \n",
              "  <style>\n",
              "    .colab-df-container {\n",
              "      display:flex;\n",
              "      flex-wrap:wrap;\n",
              "      gap: 12px;\n",
              "    }\n",
              "\n",
              "    .colab-df-convert {\n",
              "      background-color: #E8F0FE;\n",
              "      border: none;\n",
              "      border-radius: 50%;\n",
              "      cursor: pointer;\n",
              "      display: none;\n",
              "      fill: #1967D2;\n",
              "      height: 32px;\n",
              "      padding: 0 0 0 0;\n",
              "      width: 32px;\n",
              "    }\n",
              "\n",
              "    .colab-df-convert:hover {\n",
              "      background-color: #E2EBFA;\n",
              "      box-shadow: 0px 1px 2px rgba(60, 64, 67, 0.3), 0px 1px 3px 1px rgba(60, 64, 67, 0.15);\n",
              "      fill: #174EA6;\n",
              "    }\n",
              "\n",
              "    [theme=dark] .colab-df-convert {\n",
              "      background-color: #3B4455;\n",
              "      fill: #D2E3FC;\n",
              "    }\n",
              "\n",
              "    [theme=dark] .colab-df-convert:hover {\n",
              "      background-color: #434B5C;\n",
              "      box-shadow: 0px 1px 3px 1px rgba(0, 0, 0, 0.15);\n",
              "      filter: drop-shadow(0px 1px 2px rgba(0, 0, 0, 0.3));\n",
              "      fill: #FFFFFF;\n",
              "    }\n",
              "  </style>\n",
              "\n",
              "      <script>\n",
              "        const buttonEl =\n",
              "          document.querySelector('#df-c24c338e-72ad-41d8-9bd3-cde377400544 button.colab-df-convert');\n",
              "        buttonEl.style.display =\n",
              "          google.colab.kernel.accessAllowed ? 'block' : 'none';\n",
              "\n",
              "        async function convertToInteractive(key) {\n",
              "          const element = document.querySelector('#df-c24c338e-72ad-41d8-9bd3-cde377400544');\n",
              "          const dataTable =\n",
              "            await google.colab.kernel.invokeFunction('convertToInteractive',\n",
              "                                                     [key], {});\n",
              "          if (!dataTable) return;\n",
              "\n",
              "          const docLinkHtml = 'Like what you see? Visit the ' +\n",
              "            '<a target=\"_blank\" href=https://colab.research.google.com/notebooks/data_table.ipynb>data table notebook</a>'\n",
              "            + ' to learn more about interactive tables.';\n",
              "          element.innerHTML = '';\n",
              "          dataTable['output_type'] = 'display_data';\n",
              "          await google.colab.output.renderOutput(dataTable, element);\n",
              "          const docLink = document.createElement('div');\n",
              "          docLink.innerHTML = docLinkHtml;\n",
              "          element.appendChild(docLink);\n",
              "        }\n",
              "      </script>\n",
              "    </div>\n",
              "  </div>\n",
              "  "
            ]
          },
          "metadata": {},
          "execution_count": 71
        }
      ]
    },
    {
      "cell_type": "markdown",
      "metadata": {
        "id": "rxcrqJCnlLbR"
      },
      "source": [
        "Tras haber estimado los Random Forest con los tres escenarios, podemos ver que todos tienen un resultado aceptable para las predicciones de OOT. En todos los casos, **el AUC se encuentra alrededor del 70%**, lo que nos indica que no clasifica aleatoriamente, pero tampoco clasifica de manera perfecta.\n",
        "\n",
        "Respecto a **los scores medios y a los bads esperados** para cada escenario, podemos ver como **van aumentando a medida que vamos reduciendo la variable StatedMonthlyIncome**. Esto se debe a que, si reducimos los ingresos de los clientes, algunos de ellos tendrán problemas para pagar sus préstamos y por ello, habrá una mayor cantidad de impagos. **Si siguiésemos reduciendo los ingresos a los clientes, los scores medios y los bads esperados seguirían aumentando.**"
      ]
    },
    {
      "cell_type": "markdown",
      "source": [
        "### **10.2. Gráficos**"
      ],
      "metadata": {
        "id": "el_I1kaTm51t"
      }
    },
    {
      "cell_type": "code",
      "source": [
        "fpr, tpr, _ = metrics.roc_curve(y_oot, pred_rf_oot)\n",
        "fpr95, tpr95, _ = metrics.roc_curve(y_oot, pred_rf_oot95)\n",
        "fpr90, tpr90, _ = metrics.roc_curve(y_oot, pred_rf_oot90)\n",
        "fpr80, tpr80, _ = metrics.roc_curve(y_oot, pred_rf_oot80)\n",
        "plt.plot([0, 1], [0, 1], 'k--')\n",
        "plt.plot(fpr,tpr,label=\"Datos originales, AUC = \"+str(rf_auc_oot_OG.round(4)))\n",
        "plt.plot(fpr95,tpr95,label=\"Reducción 5%, AUC = \"+str(rf_aucs95.round(4)))\n",
        "plt.plot(fpr90,tpr90,label=\"Reducción 10%, AUC = \"+str(rf_aucs90.round(4)))\n",
        "plt.plot(fpr80,tpr80,label=\"Reducción 20%, AUC = \"+str(rf_aucs80.round(4)))\n",
        "plt.legend(loc=4)\n",
        "plt.show()"
      ],
      "metadata": {
        "colab": {
          "base_uri": "https://localhost:8080/",
          "height": 265
        },
        "id": "jQLzS3vbkyNl",
        "outputId": "99df1e72-ed0d-4818-b523-358f2ebcd6cd"
      },
      "execution_count": null,
      "outputs": [
        {
          "output_type": "display_data",
          "data": {
            "text/plain": [
              "<Figure size 432x288 with 1 Axes>"
            ],
            "image/png": "[encoded data removed]"
          },
          "metadata": {
            "needs_background": "light"
          }
        }
      ]
    },
    {
      "cell_type": "code",
      "source": [
        "df_mix['Scores_medios'].plot(legend=True,marker='o', color = )"
      ],
      "metadata": {
        "colab": {
          "base_uri": "https://localhost:8080/",
          "height": 282
        },
        "id": "TCkKnUqUnB5z",
        "outputId": "b1b79085-c03f-4ddb-960a-53b042e4c19e"
      },
      "execution_count": null,
      "outputs": [
        {
          "output_type": "execute_result",
          "data": {
            "text/plain": [
              "<matplotlib.axes._subplots.AxesSubplot at 0x7f609a2524c0>"
            ]
          },
          "metadata": {},
          "execution_count": 81
        },
        {
          "output_type": "display_data",
          "data": {
            "text/plain": [
              "<Figure size 432x288 with 1 Axes>"
            ],
            "image/png": "[encoded data removed]"
          },
          "metadata": {
            "needs_background": "light"
          }
        }
      ]
    },
    {
      "cell_type": "code",
      "source": [
        "df_mix['Bads_esperados'].plot(legend=True,marker='o', color = \"tomato\")"
      ],
      "metadata": {
        "colab": {
          "base_uri": "https://localhost:8080/",
          "height": 282
        },
        "id": "gKovLrv1o2MF",
        "outputId": "e5e13cb4-0aa5-43b5-9093-839f6e62c7be"
      },
      "execution_count": null,
      "outputs": [
        {
          "output_type": "execute_result",
          "data": {
            "text/plain": [
              "<matplotlib.axes._subplots.AxesSubplot at 0x7f6099fd8460>"
            ]
          },
          "metadata": {},
          "execution_count": 87
        },
        {
          "output_type": "display_data",
          "data": {
            "text/plain": [
              "<Figure size 432x288 with 1 Axes>"
            ],
            "image/png": "[encoded data removed]"
          },
          "metadata": {
            "needs_background": "light"
          }
        }
      ]
    }
  ],
  "metadata": {
    "colab": {
      "collapsed_sections": [
        "c6zSOK3dKD36",
        "mez0nTIHKj-K",
        "NlWglfQPLHRU",
        "Ve_vJJIfK2iM",
        "pi_Nq2eZL4KK",
        "952K6nFMMPWH",
        "ihaKps4kMvV9",
        "pUY5EmUWM6fH",
        "Gk8egxhPNBNb",
        "YuKvwujPNSCQ",
        "MPEnX5onP4oz",
        "-8V-v5Tsxuao",
        "inWx-zhSUNhY",
        "A_954sfZ1E3C",
        "Q3dNI7Zp42GN",
        "IF96otGBOTwn",
        "eW0LHApMDzhy",
        "el_I1kaTm51t"
      ],
      "provenance": []
    },
    "kernelspec": {
      "display_name": "Python 3 (ipykernel)",
      "language": "python",
      "name": "python3"
    },
    "language_info": {
      "codemirror_mode": {
        "name": "ipython",
        "version": 3
      },
      "file_extension": ".py",
      "mimetype": "text/x-python",
      "name": "python",
      "nbconvert_exporter": "python",
      "pygments_lexer": "ipython3",
      "version": "3.9.12"
    }
  },
  "nbformat": 4,
  "nbformat_minor": 0
}